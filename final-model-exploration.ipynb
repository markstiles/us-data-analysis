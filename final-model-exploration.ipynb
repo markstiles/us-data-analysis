{
 "cells": [
  {
   "cell_type": "code",
   "execution_count": null,
   "id": "8eaf3672",
   "metadata": {},
   "outputs": [],
   "source": [
    "# EXPLORE PLACES MODEL"
   ]
  },
  {
   "cell_type": "code",
   "execution_count": 90,
   "id": "9ca4179d",
   "metadata": {},
   "outputs": [],
   "source": [
    "import pandas as pd\n",
    "import matplotlib.pyplot as plt\n",
    "import matplotlib.lines as mlines\n",
    "import matplotlib.transforms as mtransforms\n",
    "import seaborn as sns\n",
    "import numpy as np\n",
    "import math\n",
    "import matplotlib.patches as mpatches"
   ]
  },
  {
   "cell_type": "code",
   "execution_count": 128,
   "id": "26daef39",
   "metadata": {},
   "outputs": [],
   "source": [
    "place_df = pd.read_csv(\"places_data.csv\")\n",
    "place_df = place_df.fillna(0)"
   ]
  },
  {
   "cell_type": "code",
   "execution_count": 5,
   "id": "081e18fe",
   "metadata": {},
   "outputs": [],
   "source": [
    "a = '''\n",
    "\n",
    "Location\n",
    "    GeoId\n",
    "    Place_Name\n",
    "    State_Abbr\n",
    "    State_Name\n",
    "    Type\n",
    "\n",
    "Custom\n",
    "    Income_Per_Revenue\n",
    "    Industry_Count\n",
    "    Revenue_Per_Person\n",
    "    Profit_Per_Person\n",
    "    Performance\n",
    "    Population_Range\n",
    "    \n",
    "Business\n",
    "    Profit\n",
    "    Revenue_Per_Employee\n",
    "    Revenue_Per_Employer\n",
    "  \n",
    "    All_Employers\n",
    "    All_Employees\n",
    "    All_Payroll\n",
    "    All_Revenue\n",
    "    Food_Services_Employers\n",
    "    Food_Services_Employees\n",
    "    Food_Services_Payroll\n",
    "    Food_Services_Revenue\n",
    "    Waste_Management_Employers\n",
    "    Waste_Management_Employees\n",
    "    Waste_Management_Payroll\n",
    "    Waste_Management_Revenue\n",
    "    Agriculture_Employers\n",
    "    Agriculture_Employees\n",
    "    Agriculture_Payroll\n",
    "    Agriculture_Revenue\n",
    "    Arts_Employers\n",
    "    Arts_Employees\n",
    "    Arts_Payroll\n",
    "    Arts_Revenue\n",
    "    Construction_Employers\n",
    "    Construction_Employees\n",
    "    Construction_Payroll\n",
    "    Construction_Revenue\n",
    "    Education_Employers\n",
    "    Education_Employees\n",
    "    Education_Payroll\n",
    "    Education_Revenue\n",
    "    Finance_Employers\n",
    "    Finance_Employees\n",
    "    Finance_Payroll\n",
    "    Finance_Revenue\n",
    "    Healthcare_Employers\n",
    "    Healthcare_Employees\n",
    "    Healthcare_Payroll\n",
    "    Healthcare_Revenue\n",
    "    Information_Employers\n",
    "    Information_Employees\t\n",
    "    Information_Payroll\n",
    "    Information_Revenue\n",
    "    Management_Employers\n",
    "    Management_Employees\n",
    "    Management_Payroll\n",
    "    Management_Revenue\n",
    "    Manufacturing_Employers\n",
    "    Manufacturing_Employees\n",
    "    Manufacturing_Payroll\n",
    "    Manufacturing_Revenue\n",
    "    Mining_Employers\n",
    "    Mining_Employees\n",
    "    Mining_Payroll\n",
    "    Mining_Revenue\n",
    "    Other_Employers\n",
    "    Other_Employees\n",
    "    Other_Payroll\n",
    "    Other_Revenue\n",
    "    Technical_Employers\n",
    "    Technical_Employees\n",
    "    Technical_Payroll\n",
    "    Technical_Revenue\n",
    "    Real_Estate_Employers\n",
    "    Real_Estate_Employees\n",
    "    Real_Estate_Payroll\n",
    "    Real_Estate_Revenue\n",
    "    Retail_Employers\n",
    "    Retail_Employees\n",
    "    Retail_Payroll\n",
    "    Retail_Revenue\n",
    "    Transportation_Employers\n",
    "    Transportation_Employees\n",
    "    Transportation_Payroll\n",
    "    Transportation_Revenue\n",
    "    Utilities_Employers\t\n",
    "    Utilities_Employees\n",
    "    Utilities_Payroll\n",
    "    Utilities_Revenue\n",
    "    Wholesale_Employers\n",
    "    Wholesale_Employees\n",
    "    Wholesale_Payroll\n",
    "    Wholesale_Revenue\n",
    "    \n",
    "Key Ratios\n",
    "\n",
    "    All_Employee_Per_Employer\n",
    "    All_Revenue_Per_Employer\n",
    "    All_Avg_Payroll_Per_Employee\n",
    "    All_Population_Per_Employer\n",
    "    Food_Services_Employee_Per_Employer\n",
    "    Food_Services_Revenue_Per_Employer\n",
    "    Food_Services_Avg_Payroll_Per_Employee\n",
    "    Food_Services_Population_Per_Employer\n",
    "    Waste_Management_Employee_Per_Employer\n",
    "    Waste_Management_Revenue_Per_Employer\n",
    "    Waste_Management_Avg_Payroll_Per_Employee\n",
    "    Waste_Management_Population_Per_Employer\n",
    "    Agriculture_Employee_Per_Employer\n",
    "    Agriculture_Revenue_Per_Employer\n",
    "    Agriculture_Avg_Payroll_Per_Employee\n",
    "    Agriculture_Population_Per_Employer\n",
    "    Arts_Employee_Per_Employer\n",
    "    Arts_Revenue_Per_Employer\n",
    "    Arts_Avg_Payroll_Per_Employee\n",
    "    Arts_Population_Per_Employer\n",
    "    Construction_Employee_Per_Employer\n",
    "    Construction_Revenue_Per_Employer\n",
    "    Construction_Avg_Payroll_Per_Employee\n",
    "    Construction_Population_Per_Employer\n",
    "    Education_Employee_Per_Employer\n",
    "    Education_Revenue_Per_Employer\n",
    "    Education_Avg_Payroll_Per_Employee\n",
    "    Education_Population_Per_Employer\n",
    "    Finance_Employee_Per_Employer\n",
    "    Finance_Revenue_Per_Employer\n",
    "    Finance_Avg_Payroll_Per_Employee\n",
    "    Finance_Population_Per_Employer\n",
    "    Healthcare_Employee_Per_Employer\n",
    "    Healthcare_Revenue_Per_Employer\n",
    "    Healthcare_Avg_Payroll_Per_Employee\n",
    "    Healthcare_Population_Per_Employer\n",
    "    Information_Employee_Per_Employer\n",
    "    Information_Revenue_Per_Employer\n",
    "    Information_Avg_Payroll_Per_Employee\n",
    "    Information_Population_Per_Employer\n",
    "    Management_Employee_Per_Employer\n",
    "    Management_Revenue_Per_Employer\n",
    "    Management_Avg_Payroll_Per_Employee\n",
    "    Management_Population_Per_Employer\n",
    "    Manufacturing_Employee_Per_Employer\n",
    "    Manufacturing_Revenue_Per_Employer\n",
    "    Manufacturing_Avg_Payroll_Per_Employee\n",
    "    Manufacturing_Population_Per_Employer\n",
    "    Mining_Employee_Per_Employer\n",
    "    Mining_Revenue_Per_Employer\n",
    "    Mining_Avg_Payroll_Per_Employee\n",
    "    Mining_Population_Per_Employer\n",
    "    Other_Employee_Per_Employer\n",
    "    Other_Revenue_Per_Employer\n",
    "    Other_Avg_Payroll_Per_Employee\n",
    "    Other_Population_Per_Employer\n",
    "    Technical_Employee_Per_Employer\n",
    "    Technical_Revenue_Per_Employer\n",
    "    Technical_Avg_Payroll_Per_Employee\n",
    "    Technical_Population_Per_Employer\n",
    "    Real_Estate_Employee_Per_Employer\n",
    "    Real_Estate_Revenue_Per_Employer\n",
    "    Real_Estate_Avg_Payroll_Per_Employee\n",
    "    Real_Estate_Population_Per_Employer\n",
    "    Retail_Employee_Per_Employer\n",
    "    Retail_Revenue_Per_Employer\n",
    "    Retail_Avg_Payroll_Per_Employee\n",
    "    Retail_Population_Per_Employer\n",
    "    Transportation_Employee_Per_Employer\n",
    "    Transportation_Revenue_Per_Employer\n",
    "    Transportation_Avg_Payroll_Per_Employee\n",
    "    Transportation_Population_Per_Employer\n",
    "    Utilities_Employee_Per_Employer\n",
    "    Utilities_Revenue_Per_Employer\n",
    "    Utilities_Avg_Payroll_Per_Employee\n",
    "    Utilities_Population_Per_Employer\n",
    "    Wholesale_Employee_Per_Employer\n",
    "    Wholesale_Revenue_Per_Employer\n",
    "    Wholesale_Avg_Payroll_Per_Employee\n",
    "    Wholesale_Population_Per_Employer\n",
    "\n",
    "Demographics\n",
    "    Population\n",
    "    Percent_Male\n",
    "    Percent_Female\n",
    "    Percent_Under_5\n",
    "    Percent_Under_18\n",
    "    Percent_18_Over\n",
    "    Percent_21_Over\n",
    "    Percent_25_64\n",
    "    Percent_65_Over\n",
    "    Median_Age\n",
    "    Percent_White\n",
    "    Percent_Black\n",
    "    Percent_Native\n",
    "    Percent_Asian\n",
    "    Percent_Islander\n",
    "    Percent_Other\n",
    "    Percent_Mixed\n",
    "    Percent_Hispanic\n",
    "    \n",
    "Socioeconomics\n",
    "    Median_Income\n",
    "    Average_Income\n",
    "    Percent_High_School\n",
    "    Percent_Bachelors\n",
    "    Average_Household_Size\n",
    "    Percent_In_Poverty\n",
    "    Percent_16_Over_Working\n",
    "    Percent_Employed\n",
    "    Percent_Disabled\n",
    "    Percent_Health_Coverage\n",
    "    Percent_16_Over_Commuters\n",
    "    Percent_Drive_Alone\n",
    "    Percent_Drive_Carpool\n",
    "    Percent_Public_Transport\n",
    "    Percent_Walk\n",
    "    Percent_Other_Transport\n",
    "    Percent_Home_Office\n",
    "    Average_Commute_Time\n",
    "    Percent_0_Car\n",
    "    Percent_1_Car\n",
    "    Percent_2_Car\n",
    "    Percent_Veterans\n",
    "    Percent_Foreign\n",
    "    Percent_Speak_Spanish\n",
    "    Percent_Speak_IndoEuropean\n",
    "    Percent_Speak_Asian\n",
    "    \n",
    "Housing\n",
    "    Housing_Units_Total\n",
    "    Housing_Units_Owner\n",
    "    Housing_Units_Renter\n",
    "    Housing_Units_Single_Family\n",
    "    Ownership_Rate\n",
    "    Vacancy_Rate\n",
    "    Percent_Broadband\n",
    "    Housing_Units_Median_Value\n",
    "    Average_House_Value\n",
    "    Median_Owner_Monthly_Cost\n",
    "    Avg_Owner_Monthly_Cost\n",
    "    Median_Rent\n",
    "    Average_Rent\n",
    "    Median_Year_Built\n",
    "    \n",
    "Permits\n",
    "    1_Unit_Buildings\n",
    "    1_Unit_Buildings_Units\n",
    "    1_Unit_Buildings_Value\n",
    "    2_Unit_Buildings\n",
    "    2_Unit_Buildings_Units\n",
    "    2_Unit_Buildings_Value\n",
    "    3_4_Unit_Buildings\n",
    "    3_4_Unit_Buildings_Units\n",
    "    3_4_Unit_Buildings_Value\n",
    "    5_Over_Unit_Buildings\n",
    "    5_Over_Unit_Buildings_Value\n",
    "    5_Over_Unit_Buildings_Units\n",
    "    \n",
    "Consumer Info\n",
    "    Consumer_Total_Expense\n",
    "    Consumer_Expense_Alcohol\n",
    "    Consumer_Expense_Alcohol_Home\n",
    "    Consumer_Expense_Beer_Bar\n",
    "    Consumer_Expense_Wine_Bar\n",
    "    Consumer_Expense_Clothes\n",
    "    Consumer_Expense_Mens_Clothes\n",
    "    Consumer_Expense_Womens_Clothes\n",
    "    Consumer_Expense_Childrens_Clothes\n",
    "    Consumer_Expense_Boys_Clothes\n",
    "    Consumer_Expense_Girls_Clothes\n",
    "    Consumer_Expense_Footwear\n",
    "    Consumer_Expense_Dining\n",
    "    Consumer_Expense_Dining_Breakfast\n",
    "    Consumer_Expense_Dining_Lunch\n",
    "    Consumer_Expense_Dining_Dinner\n",
    "    Consumer_Expense_Education\n",
    "    Consumer_Expense_Entertainment\n",
    "    Consumer_Expense_Clubs\n",
    "    Consumer_Expense_Dating\n",
    "    Consumer_Expense_Pet_Food\n",
    "    Consumer_Expense_Pet_Services\n",
    "    Consumer_Expense_Food_Home\n",
    "    Consumer_Expense_Bakery_Home\n",
    "    Consumer_Expense_Dairy_Home\n",
    "    Consumer_Expense_Fruits_Home\n",
    "    Consumer_Expense_Meat_Home\n",
    "    Consumer_Expense_Nonalcohol_Home\n",
    "    Consumer_Expense_Snacks_Home\n",
    "    Consumer_Expense_Healthcare\n",
    "    Consumer_Expense_Mentalcare\n",
    "    Consumer_Expense_Drugcar\n",
    "    Consumer_Expense_House_Services\n",
    "    Consumer_Expense_Eldercare\n",
    "    Consumer_Expense_Landscape\n",
    "    Consumer_Expense_Housekeeping\n",
    "    Consumer_Expense_PC\n",
    "    Consumer_Expense_Housing\n",
    "    Consumer_Expense_Home_Improvements\n",
    "    Consumer_Expense_Energy\n",
    "    Consumer_Expense_Phone\n",
    "    Consumer_Expense_Water\n",
    "    Consumer_Expense_Insurance\n",
    "    Consumer_Expense_Pensions\n",
    "    Consumer_Expense_Personalcare\n",
    "    Consumer_Expense_Haircare\n",
    "    Consumer_Expense_Personalcare_Products\n",
    "    Consumer_Expense_Transport\n",
    "    Consumer_Expense_Gas\n",
    "    Consumer_Expense_Vehicle_Repair\n",
    "    Consumer_Expense_Travel\n",
    "    Consumer_Expense_Airfare\n",
    "    Consumer_Expense_Auto_Rentals\n",
    "    Consumer_Expense_Travel_Lodging\n",
    "    Consumer_Expense_Travel_Meals\n",
    "    Consumer_Expense_Travel_Entertainment\n",
    "'''"
   ]
  },
  {
   "cell_type": "code",
   "execution_count": 275,
   "id": "a7d92ee8",
   "metadata": {},
   "outputs": [],
   "source": [
    "plt.rcParams['figure.figsize'] = [14.0, 6.0] \n",
    "plt.rcParams['figure.dpi'] = 90"
   ]
  },
  {
   "cell_type": "code",
   "execution_count": 1199,
   "id": "32e66fa5",
   "metadata": {},
   "outputs": [],
   "source": [
    "# FUNCTIONS ####################"
   ]
  },
  {
   "cell_type": "code",
   "execution_count": 36,
   "id": "a585cac6",
   "metadata": {},
   "outputs": [],
   "source": [
    "def print_info(variable, df, ascend, view_filter_cond=None):\n",
    "    \n",
    "    df1 = df[~pd.isna(place_df[variable])]\n",
    "    \n",
    "    view_df = df1 if view_filter_cond is None else df1[view_filter_cond]\n",
    "    \n",
    "    plt.hist(view_df[variable], edgecolor='black', rwidth=0.75, bins=40)\n",
    "    title = variable.replace(\"_\", \" \")\n",
    "    plt.title(f\"{title}\")\n",
    "    plt.show()\n",
    "\n",
    "    print(f\"{variable} range from {df1[variable].min()} to {df1[variable].max()}\")\n",
    "    count_total = len(df1)\n",
    "    print(f\"num total: {count_total}\")\n",
    "    print(df1[[\"Place_Name\", \"State_Abbr\", variable]].sort_values(by=[variable], ascending=ascend)[0:10])"
   ]
  },
  {
   "cell_type": "code",
   "execution_count": 12,
   "id": "620caf65",
   "metadata": {},
   "outputs": [],
   "source": [
    "##############################\n",
    "# INDUSTRY COUNT\n",
    "##############################"
   ]
  },
  {
   "cell_type": "code",
   "execution_count": 13,
   "id": "76871085",
   "metadata": {
    "scrolled": false
   },
   "outputs": [
    {
     "data": {
      "image/png": "[encoded data removed]",
      "text/plain": [
       "<Figure size 432x288 with 1 Axes>"
      ]
     },
     "metadata": {
      "needs_background": "light"
     },
     "output_type": "display_data"
    },
    {
     "name": "stdout",
     "output_type": "stream",
     "text": [
      "Industry_Count range from 0 to 10\n",
      "num total: 9775\n",
      "        Place_Name State_Abbr  Industry_Count\n",
      "4887     Brickship         NJ              10\n",
      "3650       Webster         NY              10\n",
      "3664       Warwick         NY              10\n",
      "3665       Warwick         NY              10\n",
      "9026  Solana Beach         CA              10\n",
      "7309    Hutchinson         KS              10\n",
      "3672      Wallkill         NY              10\n",
      "9028   Signal Hill         CA              10\n",
      "7305   Kansas City         KS              10\n",
      "7301      Lawrence         KS              10\n"
     ]
    }
   ],
   "source": [
    "print_info(\"Industry_Count\", place_df, False)"
   ]
  },
  {
   "cell_type": "code",
   "execution_count": 14,
   "id": "771d8491",
   "metadata": {},
   "outputs": [],
   "source": [
    "##############################\n",
    "# EMPLOYERS\n",
    "##############################"
   ]
  },
  {
   "cell_type": "code",
   "execution_count": 18,
   "id": "fc97e5db",
   "metadata": {
    "scrolled": true
   },
   "outputs": [
    {
     "data": {
      "image/png": "[encoded data removed]",
      "text/plain": [
       "<Figure size 432x288 with 1 Axes>"
      ]
     },
     "metadata": {
      "needs_background": "light"
     },
     "output_type": "display_data"
    },
    {
     "name": "stdout",
     "output_type": "stream",
     "text": [
      "All_Employers range from 0 to 171805\n",
      "num total: 9775\n",
      "         Place_Name State_Abbr  All_Employers\n",
      "3919       New York         NY         171805\n",
      "9186    Los Angeles         CA          94468\n",
      "1194        Houston         TX          58675\n",
      "8069        Chicago         IL          53883\n",
      "9067      San Diego         CA          35382\n",
      "9064  San Francisco         CA          30112\n",
      "1308         Dallas         TX          29319\n",
      "9554        Phoenix         AZ          28358\n",
      "1401         Austin         TX          25896\n",
      "993     San Antonio         TX          25059\n"
     ]
    }
   ],
   "source": [
    "print_info(\"All_Employers\", place_df, False, place_df.All_Employers < 5000)"
   ]
  },
  {
   "cell_type": "code",
   "execution_count": 20,
   "id": "9f46cd2a",
   "metadata": {
    "scrolled": true
   },
   "outputs": [
    {
     "data": {
      "image/png": "[encoded data removed]",
      "text/plain": [
       "<Figure size 432x288 with 1 Axes>"
      ]
     },
     "metadata": {
      "needs_background": "light"
     },
     "output_type": "display_data"
    },
    {
     "name": "stdout",
     "output_type": "stream",
     "text": [
      "All_Employers range from 0 to 171805\n",
      "num total: 9775\n",
      "         Place_Name State_Abbr  All_Employers\n",
      "3919       New York         NY         171805\n",
      "9186    Los Angeles         CA          94468\n",
      "1194        Houston         TX          58675\n",
      "8069        Chicago         IL          53883\n",
      "9067      San Diego         CA          35382\n",
      "9064  San Francisco         CA          30112\n",
      "1308         Dallas         TX          29319\n",
      "9554        Phoenix         AZ          28358\n",
      "1401         Austin         TX          25896\n",
      "993     San Antonio         TX          25059\n"
     ]
    }
   ],
   "source": [
    "print_info(\"All_Employers\", place_df, False, place_df.All_Employers >= 5000)"
   ]
  },
  {
   "cell_type": "code",
   "execution_count": 1204,
   "id": "0fc24f58",
   "metadata": {},
   "outputs": [],
   "source": [
    "##############################\n",
    "# EMPLOYEES\n",
    "##############################"
   ]
  },
  {
   "cell_type": "code",
   "execution_count": 26,
   "id": "739f97a1",
   "metadata": {},
   "outputs": [
    {
     "data": {
      "image/png": "[encoded data removed]",
      "text/plain": [
       "<Figure size 432x288 with 1 Axes>"
      ]
     },
     "metadata": {
      "needs_background": "light"
     },
     "output_type": "display_data"
    },
    {
     "name": "stdout",
     "output_type": "stream",
     "text": [
      "All_Employees range from 0 to 2638457\n",
      "num total: 9775\n",
      "         Place_Name State_Abbr  All_Employees\n",
      "3919       New York         NY        2638457\n",
      "1194        Houston         TX        1255073\n",
      "9186    Los Angeles         CA        1251994\n",
      "8069        Chicago         IL        1096270\n",
      "9067      San Diego         CA         627764\n",
      "9064  San Francisco         CA         608879\n",
      "1308         Dallas         TX         604896\n",
      "9554        Phoenix         AZ         603318\n",
      "993     San Antonio         TX         544647\n",
      "6706         Boston         MA         534949\n"
     ]
    }
   ],
   "source": [
    "print_info(\"All_Employees\", place_df, False, place_df.All_Employees < 100000)"
   ]
  },
  {
   "cell_type": "code",
   "execution_count": 25,
   "id": "53358723",
   "metadata": {},
   "outputs": [
    {
     "data": {
      "image/png": "[encoded data removed]",
      "text/plain": [
       "<Figure size 432x288 with 1 Axes>"
      ]
     },
     "metadata": {
      "needs_background": "light"
     },
     "output_type": "display_data"
    },
    {
     "name": "stdout",
     "output_type": "stream",
     "text": [
      "All_Employees range from 0 to 2638457\n",
      "num total: 9775\n",
      "         Place_Name State_Abbr  All_Employees\n",
      "3919       New York         NY        2638457\n",
      "1194        Houston         TX        1255073\n",
      "9186    Los Angeles         CA        1251994\n",
      "8069        Chicago         IL        1096270\n",
      "9067      San Diego         CA         627764\n",
      "9064  San Francisco         CA         608879\n",
      "1308         Dallas         TX         604896\n",
      "9554        Phoenix         AZ         603318\n",
      "993     San Antonio         TX         544647\n",
      "6706         Boston         MA         534949\n"
     ]
    }
   ],
   "source": [
    "print_info(\"All_Employees\", place_df, False, place_df.All_Employees >= 100000)"
   ]
  },
  {
   "cell_type": "code",
   "execution_count": 1206,
   "id": "d8ab300a",
   "metadata": {},
   "outputs": [],
   "source": [
    "##############################\n",
    "# PAYROLL\n",
    "##############################"
   ]
  },
  {
   "cell_type": "code",
   "execution_count": 281,
   "id": "6a11702f",
   "metadata": {},
   "outputs": [
    {
     "data": {
      "text/plain": [
       "54"
      ]
     },
     "execution_count": 281,
     "metadata": {},
     "output_type": "execute_result"
    }
   ],
   "source": [
    "len(place_df[place_df.All_Revenue >= 20000000])"
   ]
  },
  {
   "cell_type": "code",
   "execution_count": 30,
   "id": "f3182db9",
   "metadata": {},
   "outputs": [
    {
     "data": {
      "image/png": "[encoded data removed]",
      "text/plain": [
       "<Figure size 432x288 with 1 Axes>"
      ]
     },
     "metadata": {
      "needs_background": "light"
     },
     "output_type": "display_data"
    },
    {
     "name": "stdout",
     "output_type": "stream",
     "text": [
      "All_Payroll range from 0 to 239223901\n",
      "num total: 9775\n",
      "         Place_Name State_Abbr  All_Payroll\n",
      "3919       New York         NY    239223901\n",
      "9186    Los Angeles         CA     78487916\n",
      "8069        Chicago         IL     74618656\n",
      "1194        Houston         TX     68776535\n",
      "9064  San Francisco         CA     57838602\n",
      "6706         Boston         MA     48019072\n",
      "9067      San Diego         CA     37602131\n",
      "1308         Dallas         TX     35670856\n",
      "8684     Washington         DC     35470227\n",
      "488         Seattle         WA     29417782\n"
     ]
    }
   ],
   "source": [
    "print_info(\"All_Payroll\", place_df, False, place_df.All_Payroll < 2000000)"
   ]
  },
  {
   "cell_type": "code",
   "execution_count": 29,
   "id": "a174ad37",
   "metadata": {},
   "outputs": [
    {
     "data": {
      "image/png": "[encoded data removed]",
      "text/plain": [
       "<Figure size 432x288 with 1 Axes>"
      ]
     },
     "metadata": {
      "needs_background": "light"
     },
     "output_type": "display_data"
    },
    {
     "name": "stdout",
     "output_type": "stream",
     "text": [
      "All_Payroll range from 0 to 239223901\n",
      "num total: 9775\n",
      "         Place_Name State_Abbr  All_Payroll\n",
      "3919       New York         NY    239223901\n",
      "9186    Los Angeles         CA     78487916\n",
      "8069        Chicago         IL     74618656\n",
      "1194        Houston         TX     68776535\n",
      "9064  San Francisco         CA     57838602\n",
      "6706         Boston         MA     48019072\n",
      "9067      San Diego         CA     37602131\n",
      "1308         Dallas         TX     35670856\n",
      "8684     Washington         DC     35470227\n",
      "488         Seattle         WA     29417782\n"
     ]
    }
   ],
   "source": [
    "print_info(\"All_Payroll\", place_df, False, place_df.All_Payroll >= 2000000)"
   ]
  },
  {
   "cell_type": "code",
   "execution_count": 1208,
   "id": "881b02df",
   "metadata": {},
   "outputs": [],
   "source": [
    "##############################\n",
    "# REVENUE\n",
    "##############################"
   ]
  },
  {
   "cell_type": "code",
   "execution_count": 276,
   "id": "bf44ff98",
   "metadata": {},
   "outputs": [
    {
     "data": {
      "image/png": "[encoded data removed]",
      "text/plain": [
       "<Figure size 1260x540 with 1 Axes>"
      ]
     },
     "metadata": {
      "needs_background": "light"
     },
     "output_type": "display_data"
    },
    {
     "name": "stdout",
     "output_type": "stream",
     "text": [
      "All_Revenue range from 0 to 466437405\n",
      "num total: 9707\n",
      "         Place_Name State_Abbr  All_Revenue\n",
      "3917       New York         NY    466437405\n",
      "9118    Los Angeles         CA    210648429\n",
      "1193        Houston         TX    198110290\n",
      "8001        Chicago         IL    168827531\n",
      "487         Seattle         WA    122846157\n",
      "8996  San Francisco         CA    113699156\n",
      "8999      San Diego         CA    100569384\n",
      "8616     Washington         DC     97894902\n",
      "1307         Dallas         TX     95226965\n",
      "6701         Boston         MA     86676380\n"
     ]
    }
   ],
   "source": [
    "print_info(\"All_Revenue\", place_df, False)"
   ]
  },
  {
   "cell_type": "code",
   "execution_count": 278,
   "id": "a0c739a8",
   "metadata": {},
   "outputs": [
    {
     "data": {
      "image/png": "[encoded data removed]",
      "text/plain": [
       "<Figure size 1260x540 with 1 Axes>"
      ]
     },
     "metadata": {
      "needs_background": "light"
     },
     "output_type": "display_data"
    },
    {
     "name": "stdout",
     "output_type": "stream",
     "text": [
      "All_Revenue range from 0 to 466437405\n",
      "num total: 9707\n",
      "         Place_Name State_Abbr  All_Revenue\n",
      "3917       New York         NY    466437405\n",
      "9118    Los Angeles         CA    210648429\n",
      "1193        Houston         TX    198110290\n",
      "8001        Chicago         IL    168827531\n",
      "487         Seattle         WA    122846157\n",
      "8996  San Francisco         CA    113699156\n",
      "8999      San Diego         CA    100569384\n",
      "8616     Washington         DC     97894902\n",
      "1307         Dallas         TX     95226965\n",
      "6701         Boston         MA     86676380\n"
     ]
    }
   ],
   "source": [
    "print_info(\"All_Revenue\", place_df, False, place_df.All_Revenue < 20000000)"
   ]
  },
  {
   "cell_type": "code",
   "execution_count": 279,
   "id": "f300ff8e",
   "metadata": {
    "scrolled": false
   },
   "outputs": [
    {
     "data": {
      "image/png": "[encoded data removed]",
      "text/plain": [
       "<Figure size 1260x540 with 1 Axes>"
      ]
     },
     "metadata": {
      "needs_background": "light"
     },
     "output_type": "display_data"
    },
    {
     "name": "stdout",
     "output_type": "stream",
     "text": [
      "All_Revenue range from 0 to 466437405\n",
      "num total: 9707\n",
      "         Place_Name State_Abbr  All_Revenue\n",
      "3917       New York         NY    466437405\n",
      "9118    Los Angeles         CA    210648429\n",
      "1193        Houston         TX    198110290\n",
      "8001        Chicago         IL    168827531\n",
      "487         Seattle         WA    122846157\n",
      "8996  San Francisco         CA    113699156\n",
      "8999      San Diego         CA    100569384\n",
      "8616     Washington         DC     97894902\n",
      "1307         Dallas         TX     95226965\n",
      "6701         Boston         MA     86676380\n"
     ]
    }
   ],
   "source": [
    "print_info(\"All_Revenue\", place_df, False, place_df.All_Revenue >= 20000000)"
   ]
  },
  {
   "cell_type": "code",
   "execution_count": null,
   "id": "251e93e6",
   "metadata": {},
   "outputs": [],
   "source": [
    "##############################\n",
    "# AVERAGE INCOME\n",
    "##############################"
   ]
  },
  {
   "cell_type": "code",
   "execution_count": 38,
   "id": "3abcaae0",
   "metadata": {},
   "outputs": [
    {
     "data": {
      "image/png": "[encoded data removed]",
      "text/plain": [
       "<Figure size 432x288 with 1 Axes>"
      ]
     },
     "metadata": {
      "needs_background": "light"
     },
     "output_type": "display_data"
    },
    {
     "name": "stdout",
     "output_type": "stream",
     "text": [
      "Average_Income range from 0.0 to 617173.0\n",
      "num total: 9773\n",
      "                 Place_Name State_Abbr  Average_Income\n",
      "4328             Brookville         NY        617173.0\n",
      "9392               Atherton         CA        539944.0\n",
      "3767              Scarsdale         NY        516371.0\n",
      "9244           Hillsborough         CA        510494.0\n",
      "1190  Hunters Creek Village         TX        477852.0\n",
      "908                Westlake         TX        471768.0\n",
      "1044    Piney Point Village         TX        465566.0\n",
      "8941   Cherry Hills Village         CO        464068.0\n",
      "7287          Mission Hills         KS        444346.0\n",
      "9101         Portola Valley         CA        435371.0\n"
     ]
    }
   ],
   "source": [
    "print_info(\"Average_Income\", place_df, False)"
   ]
  },
  {
   "cell_type": "code",
   "execution_count": 1220,
   "id": "38e1fe75",
   "metadata": {},
   "outputs": [],
   "source": [
    "##############################\n",
    "# MEDIAN INCOME\n",
    "##############################"
   ]
  },
  {
   "cell_type": "code",
   "execution_count": 39,
   "id": "3b94fbda",
   "metadata": {},
   "outputs": [
    {
     "data": {
      "image/png": "[encoded data removed]",
      "text/plain": [
       "<Figure size 432x288 with 1 Axes>"
      ]
     },
     "metadata": {
      "needs_background": "light"
     },
     "output_type": "display_data"
    },
    {
     "name": "stdout",
     "output_type": "stream",
     "text": [
      "Median_Income range from 0.0 to 248984.0\n",
      "num total: 9735\n",
      "           Place_Name State_Abbr  Median_Income\n",
      "9131           Orinda         CA       248984.0\n",
      "2436       Fox Chapel         PA       247930.0\n",
      "925   University Park         TX       247045.0\n",
      "4172      Flower Hill         NY       246533.0\n",
      "4747        Ho-Ho-Kus         NJ       244493.0\n",
      "4788       Glen Ridge         NJ       243899.0\n",
      "4044     Lake Success         NY       241029.0\n",
      "958         Southlake         TX       239833.0\n",
      "4555           Rumson         NJ       239188.0\n",
      "8714         Westport         CT       236892.0\n"
     ]
    }
   ],
   "source": [
    "print_info(\"Median_Income\", place_df, False)"
   ]
  },
  {
   "cell_type": "code",
   "execution_count": 1222,
   "id": "a7f2def8",
   "metadata": {},
   "outputs": [],
   "source": [
    "##############################\n",
    "# POPULATION\n",
    "##############################"
   ]
  },
  {
   "cell_type": "code",
   "execution_count": 40,
   "id": "1227d44d",
   "metadata": {},
   "outputs": [
    {
     "data": {
      "image/png": "[encoded data removed]",
      "text/plain": [
       "<Figure size 432x288 with 1 Axes>"
      ]
     },
     "metadata": {
      "needs_background": "light"
     },
     "output_type": "display_data"
    },
    {
     "name": "stdout",
     "output_type": "stream",
     "text": [
      "Population range from 0.0 to 8736047.0\n",
      "num total: 9775\n",
      "        Place_Name State_Abbr  Population\n",
      "3919      New York         NY   8736047.0\n",
      "9186   Los Angeles         CA   3902440.0\n",
      "8069       Chicago         IL   2742119.0\n",
      "1194       Houston         TX   2293288.0\n",
      "2034  Philadelphia         PA   1596865.0\n",
      "9554       Phoenix         AZ   1591119.0\n",
      "993    San Antonio         TX   1434540.0\n",
      "9067     San Diego         CA   1385398.0\n",
      "1308        Dallas         TX   1300239.0\n",
      "9059      San Jose         CA   1013337.0\n"
     ]
    }
   ],
   "source": [
    "print_info(\"Population\", place_df, False, place_df.Population < 300000)"
   ]
  },
  {
   "cell_type": "code",
   "execution_count": 41,
   "id": "247072e8",
   "metadata": {},
   "outputs": [
    {
     "data": {
      "image/png": "[encoded data removed]",
      "text/plain": [
       "<Figure size 432x288 with 1 Axes>"
      ]
     },
     "metadata": {
      "needs_background": "light"
     },
     "output_type": "display_data"
    },
    {
     "name": "stdout",
     "output_type": "stream",
     "text": [
      "Population range from 0.0 to 8736047.0\n",
      "num total: 9775\n",
      "        Place_Name State_Abbr  Population\n",
      "3919      New York         NY   8736047.0\n",
      "9186   Los Angeles         CA   3902440.0\n",
      "8069       Chicago         IL   2742119.0\n",
      "1194       Houston         TX   2293288.0\n",
      "2034  Philadelphia         PA   1596865.0\n",
      "9554       Phoenix         AZ   1591119.0\n",
      "993    San Antonio         TX   1434540.0\n",
      "9067     San Diego         CA   1385398.0\n",
      "1308        Dallas         TX   1300239.0\n",
      "9059      San Jose         CA   1013337.0\n"
     ]
    }
   ],
   "source": [
    "print_info(\"Population\", place_df, False, place_df.Population >= 300000)"
   ]
  },
  {
   "cell_type": "code",
   "execution_count": 1224,
   "id": "7a3fa819",
   "metadata": {},
   "outputs": [],
   "source": [
    "##############################\n",
    "# PROFIT\n",
    "##############################"
   ]
  },
  {
   "cell_type": "code",
   "execution_count": 46,
   "id": "a8d7d066",
   "metadata": {},
   "outputs": [
    {
     "data": {
      "image/png": "[encoded data removed]",
      "text/plain": [
       "<Figure size 432x288 with 1 Axes>"
      ]
     },
     "metadata": {
      "needs_background": "light"
     },
     "output_type": "display_data"
    },
    {
     "name": "stdout",
     "output_type": "stream",
     "text": [
      "Profit range from -7202631 to 227213504\n",
      "num total: 9775\n",
      "             Place_Name State_Abbr   Profit\n",
      "9152      Mountain View         CA -7202631\n",
      "1824     Tredyffrinship         PA  -426384\n",
      "8805             Groton         CT  -405102\n",
      "5316            Clayton         MO  -244056\n",
      "6704         Boxborough         MA  -101817\n",
      "4488         Warrenship         NJ   -90684\n",
      "3979            Menands         NY   -40232\n",
      "2261  Lower Gwyneddship         PA   -36911\n",
      "3010     West Jefferson         OH   -27547\n",
      "4560          Rockleigh         NJ   -24947\n"
     ]
    }
   ],
   "source": [
    "print_info(\"Profit\", place_df, True, place_df.Profit < 4000000)"
   ]
  },
  {
   "cell_type": "code",
   "execution_count": 44,
   "id": "1ccbd8aa",
   "metadata": {},
   "outputs": [
    {
     "data": {
      "image/png": "[encoded data removed]",
      "text/plain": [
       "<Figure size 432x288 with 1 Axes>"
      ]
     },
     "metadata": {
      "needs_background": "light"
     },
     "output_type": "display_data"
    },
    {
     "name": "stdout",
     "output_type": "stream",
     "text": [
      "Profit range from -7202631 to 227213504\n",
      "num total: 9775\n",
      "             Place_Name State_Abbr   Profit\n",
      "9152      Mountain View         CA -7202631\n",
      "1824     Tredyffrinship         PA  -426384\n",
      "8805             Groton         CT  -405102\n",
      "5316            Clayton         MO  -244056\n",
      "6704         Boxborough         MA  -101817\n",
      "4488         Warrenship         NJ   -90684\n",
      "3979            Menands         NY   -40232\n",
      "2261  Lower Gwyneddship         PA   -36911\n",
      "3010     West Jefferson         OH   -27547\n",
      "4560          Rockleigh         NJ   -24947\n"
     ]
    }
   ],
   "source": [
    "print_info(\"Profit\", place_df, True, place_df.Profit >= 4000000)"
   ]
  },
  {
   "cell_type": "code",
   "execution_count": null,
   "id": "0229f12c",
   "metadata": {},
   "outputs": [],
   "source": [
    "##############################\n",
    "# HOUSING\n",
    "##############################"
   ]
  },
  {
   "cell_type": "code",
   "execution_count": 49,
   "id": "7069087d",
   "metadata": {},
   "outputs": [
    {
     "data": {
      "image/png": "[encoded data removed]",
      "text/plain": [
       "<Figure size 432x288 with 1 Axes>"
      ]
     },
     "metadata": {
      "needs_background": "light"
     },
     "output_type": "display_data"
    },
    {
     "name": "stdout",
     "output_type": "stream",
     "text": [
      "Average_House_Value range from 0.0 to 6288433.0\n",
      "num total: 9766\n",
      "           Place_Name State_Abbr  Average_House_Value\n",
      "9392         Atherton         CA            6288433.0\n",
      "9244     Hillsborough         CA            4307171.0\n",
      "9187  Los Altos Hills         CA            4245240.0\n",
      "9375    Beverly Hills         CA            4225458.0\n",
      "9101   Portola Valley         CA            4027488.0\n",
      "4210     East Hampton         NY            3392334.0\n",
      "9180           Malibu         CA            3382855.0\n",
      "9158     Monte Sereno         CA            3195403.0\n",
      "3733      Southampton         NY            3127147.0\n",
      "9188        Los Altos         CA            3090299.0\n"
     ]
    }
   ],
   "source": [
    "print_info(\"Average_House_Value\", place_df, False)"
   ]
  },
  {
   "cell_type": "code",
   "execution_count": 53,
   "id": "b0a91bee",
   "metadata": {
    "scrolled": false
   },
   "outputs": [
    {
     "name": "stderr",
     "output_type": "stream",
     "text": [
      "C:\\Users\\mark.stiles\\AppData\\Local\\Temp\\ipykernel_85904\\19546063.py:3: UserWarning: Boolean Series key will be reindexed to match DataFrame index.\n",
      "  df1 = df[~pd.isna(place_df[variable])]\n"
     ]
    },
    {
     "data": {
      "image/png": "[encoded data removed]",
      "text/plain": [
       "<Figure size 432x288 with 1 Axes>"
      ]
     },
     "metadata": {
      "needs_background": "light"
     },
     "output_type": "display_data"
    },
    {
     "name": "stdout",
     "output_type": "stream",
     "text": [
      "Median_Year_Built range from 1940.0 to 2020.0\n",
      "num total: 9222\n",
      "      Place_Name State_Abbr  Median_Year_Built\n",
      "2416  Gettysburg         PA             1940.0\n",
      "2599    Coalship         PA             1940.0\n",
      "7691    Winnetka         IL             1940.0\n",
      "4899     Beverly         NJ             1940.0\n",
      "7667    Bicknell         IN             1940.0\n",
      "2340      Ingram         PA             1940.0\n",
      "2017    Plymouth         PA             1940.0\n",
      "2443  Forty Fort         PA             1940.0\n",
      "5640     Eveleth         MN             1940.0\n",
      "2024    Pittston         PA             1941.0\n"
     ]
    }
   ],
   "source": [
    "print_info(\"Median_Year_Built\", place_df[place_df.Median_Year_Built > 0], True)"
   ]
  },
  {
   "cell_type": "code",
   "execution_count": 56,
   "id": "d5ee2989",
   "metadata": {},
   "outputs": [
    {
     "name": "stderr",
     "output_type": "stream",
     "text": [
      "C:\\Users\\mark.stiles\\AppData\\Local\\Temp\\ipykernel_85904\\19546063.py:3: UserWarning: Boolean Series key will be reindexed to match DataFrame index.\n",
      "  df1 = df[~pd.isna(place_df[variable])]\n"
     ]
    },
    {
     "data": {
      "image/png": "[encoded data removed]",
      "text/plain": [
       "<Figure size 432x288 with 1 Axes>"
      ]
     },
     "metadata": {
      "needs_background": "light"
     },
     "output_type": "display_data"
    },
    {
     "name": "stdout",
     "output_type": "stream",
     "text": [
      "Median_Year_Built range from 1940.0 to 2020.0\n",
      "num total: 9222\n",
      "            Place_Name State_Abbr  Median_Year_Built\n",
      "8568  Lake Buena Vista         FL             2020.0\n",
      "1248          Fulshear         TX             2014.0\n",
      "7502        Whitestown         IN             2013.0\n",
      "1567        Berry Hill         TN             2013.0\n",
      "1391          Bee Cave         TX             2012.0\n",
      "1663       Hardeeville         SC             2012.0\n",
      "1101           Melissa         TX             2012.0\n",
      "3441        Rolesville         NC             2012.0\n",
      "1109             Manor         TX             2012.0\n",
      "1088        Montgomery         TX             2012.0\n"
     ]
    }
   ],
   "source": [
    "print_info(\"Median_Year_Built\", place_df[place_df.Median_Year_Built > 0], False)"
   ]
  },
  {
   "cell_type": "code",
   "execution_count": 54,
   "id": "ea9c58d0",
   "metadata": {
    "scrolled": false
   },
   "outputs": [
    {
     "name": "stderr",
     "output_type": "stream",
     "text": [
      "C:\\Users\\mark.stiles\\AppData\\Local\\Temp\\ipykernel_85904\\19546063.py:3: UserWarning: Boolean Series key will be reindexed to match DataFrame index.\n",
      "  df1 = df[~pd.isna(place_df[variable])]\n"
     ]
    },
    {
     "data": {
      "image/png": "[encoded data removed]",
      "text/plain": [
       "<Figure size 432x288 with 1 Axes>"
      ]
     },
     "metadata": {
      "needs_background": "light"
     },
     "output_type": "display_data"
    },
    {
     "name": "stdout",
     "output_type": "stream",
     "text": [
      "Ownership_Rate range from 2.3 to 100.0\n",
      "num total: 9474\n",
      "      Place_Name State_Abbr  Ownership_Rate\n",
      "8993      Vernon         CA             2.3\n",
      "4063       Kaser         NY             4.5\n",
      "8915    Glendale         CO             8.9\n",
      "8373   Clarkston         GA             9.4\n",
      "9233    Industry         CA            12.7\n",
      "3922  New Square         NY            12.9\n",
      "9318      Cudahy         CA            14.4\n",
      "1567  Berry Hill         TN            15.9\n",
      "912      Webster         TX            17.0\n",
      "1692     Central         SC            17.8\n"
     ]
    }
   ],
   "source": [
    "print_info(\"Ownership_Rate\", place_df[place_df.Ownership_Rate > 0], True)"
   ]
  },
  {
   "cell_type": "code",
   "execution_count": 55,
   "id": "0ec0d80c",
   "metadata": {},
   "outputs": [
    {
     "name": "stderr",
     "output_type": "stream",
     "text": [
      "C:\\Users\\mark.stiles\\AppData\\Local\\Temp\\ipykernel_85904\\19546063.py:3: UserWarning: Boolean Series key will be reindexed to match DataFrame index.\n",
      "  df1 = df[~pd.isna(place_df[variable])]\n"
     ]
    },
    {
     "data": {
      "image/png": "[encoded data removed]",
      "text/plain": [
       "<Figure size 432x288 with 1 Axes>"
      ]
     },
     "metadata": {
      "needs_background": "light"
     },
     "output_type": "display_data"
    },
    {
     "name": "stdout",
     "output_type": "stream",
     "text": [
      "Ownership_Rate range from 2.3 to 100.0\n",
      "num total: 9474\n",
      "            Place_Name State_Abbr  Ownership_Rate\n",
      "7754  South Barrington         IL           100.0\n",
      "8568  Lake Buena Vista         FL           100.0\n",
      "163             Ottawa         WI           100.0\n",
      "906       Weston Lakes         TX           100.0\n",
      "7287     Mission Hills         KS           100.0\n",
      "4208        East Hills         NY           100.0\n",
      "207          Middleton         WI           100.0\n",
      "7937           Kildeer         IL            99.5\n",
      "7194      Indian Hills         KY            99.5\n",
      "5680    Cedar Lakeship         MN            99.5\n"
     ]
    }
   ],
   "source": [
    "print_info(\"Ownership_Rate\", place_df[place_df.Ownership_Rate > 0], False)"
   ]
  },
  {
   "cell_type": "code",
   "execution_count": 105,
   "id": "dab21fcc",
   "metadata": {
    "scrolled": false
   },
   "outputs": [
    {
     "data": {
      "image/png": "[encoded data removed]",
      "text/plain": [
       "<Figure size 432x288 with 1 Axes>"
      ]
     },
     "metadata": {
      "needs_background": "light"
     },
     "output_type": "display_data"
    },
    {
     "name": "stdout",
     "output_type": "stream",
     "text": [
      "Median_Rent range from 0.0 to 3471.0\n",
      "num total: 9526\n",
      "           Place_Name State_Abbr  Median_Rent\n",
      "9208      Foster City         CA       3471.0\n",
      "9490  Paradise Valley         AZ       3452.0\n",
      "9248        Cupertino         CA       3450.0\n",
      "1567      Belle Meade         TN       3422.0\n",
      "4542       Shrewsbury         NJ       3403.0\n",
      "3765        Scarsdale         NY       3401.0\n",
      "4157      Garden City         NY       3366.0\n",
      "6203         Franklin         MI       3354.0\n",
      "8970         Saratoga         CA       3346.0\n",
      "3815      Pound Ridge         NY       3346.0\n"
     ]
    }
   ],
   "source": [
    "print_info(\"Median_Rent\", place_df, False)"
   ]
  },
  {
   "cell_type": "code",
   "execution_count": 1235,
   "id": "49bfc7c0",
   "metadata": {},
   "outputs": [],
   "source": [
    "##############################\n",
    "# DEMOGRAPHICS\n",
    "##############################"
   ]
  },
  {
   "cell_type": "code",
   "execution_count": 57,
   "id": "5f2637d4",
   "metadata": {
    "scrolled": false
   },
   "outputs": [
    {
     "data": {
      "image/png": "[encoded data removed]",
      "text/plain": [
       "<Figure size 432x288 with 1 Axes>"
      ]
     },
     "metadata": {
      "needs_background": "light"
     },
     "output_type": "display_data"
    },
    {
     "name": "stdout",
     "output_type": "stream",
     "text": [
      "Percent_21_Over range from 0.0 to 100.0\n",
      "num total: 9775\n",
      "            Place_Name State_Abbr  Percent_21_Over\n",
      "8568  Lake Buena Vista         FL            100.0\n",
      "8953        Black Hawk         CO            100.0\n",
      "9219      Laguna Woods         CA             99.7\n",
      "8577        Juno Beach         FL             98.8\n",
      "8550      Longboat Key         FL             98.6\n",
      "3437       Saint James         NC             97.5\n",
      "8670          Bay Lake         FL             97.3\n",
      "8463           Sanibel         FL             97.0\n",
      "1675       Folly Beach         SC             96.6\n",
      "8593    Highland Beach         FL             96.3\n"
     ]
    }
   ],
   "source": [
    "print_info(\"Percent_21_Over\", place_df, False)"
   ]
  },
  {
   "cell_type": "code",
   "execution_count": 92,
   "id": "d42224aa",
   "metadata": {
    "scrolled": false
   },
   "outputs": [
    {
     "data": {
      "image/png": "[encoded data removed]",
      "text/plain": [
       "<Figure size 432x288 with 1 Axes>"
      ]
     },
     "metadata": {
      "needs_background": "light"
     },
     "output_type": "display_data"
    },
    {
     "name": "stdout",
     "output_type": "stream",
     "text": [
      "Percent_25_64 range from 0.0 to 94.6\n",
      "num total: 9705\n",
      "                Place_Name State_Abbr  Percent_25_64\n",
      "2397             Greggship         PA            0.0\n",
      "2494  East Marlboroughship         PA            0.0\n",
      "4388             Alexander         NY            0.0\n",
      "3376               Woodfin         NC            0.0\n",
      "4377                Arcade         NY            0.0\n",
      "4358                Bangor         NY            0.0\n",
      "2569       Cornplantership         PA            0.0\n",
      "1143              Lampasas         TX            0.0\n",
      "164                Oshkosh         WI            0.0\n",
      "2577     Connellsvilleship         PA            0.0\n"
     ]
    }
   ],
   "source": [
    "print_info(\"Percent_25_64\", place_df, True)"
   ]
  },
  {
   "cell_type": "code",
   "execution_count": 59,
   "id": "0d94c654",
   "metadata": {
    "scrolled": false
   },
   "outputs": [
    {
     "data": {
      "image/png": "[encoded data removed]",
      "text/plain": [
       "<Figure size 432x288 with 1 Axes>"
      ]
     },
     "metadata": {
      "needs_background": "light"
     },
     "output_type": "display_data"
    },
    {
     "name": "stdout",
     "output_type": "stream",
     "text": [
      "Percent_65_Over range from 0.0 to 80.1\n",
      "num total: 9775\n",
      "               Place_Name State_Abbr  Percent_65_Over\n",
      "5018        East Kingston         NH              0.0\n",
      "3746             Sherrill         NY              0.0\n",
      "6982     Morehouse Parish         LA              0.0\n",
      "590               Buckley         WA              0.0\n",
      "2355          Hickoryship         PA              0.0\n",
      "2348         Hopewellship         PA              0.0\n",
      "6564   North Attleborough         MA              0.0\n",
      "3721             Stamford         NY              0.0\n",
      "8894                 Mead         CO              0.0\n",
      "6981  Natchitoches Parish         LA              0.0\n"
     ]
    }
   ],
   "source": [
    "print_info(\"Percent_65_Over\", place_df, True)"
   ]
  },
  {
   "cell_type": "code",
   "execution_count": 60,
   "id": "e684fc69",
   "metadata": {
    "scrolled": false
   },
   "outputs": [
    {
     "name": "stderr",
     "output_type": "stream",
     "text": [
      "C:\\Users\\mark.stiles\\AppData\\Local\\Temp\\ipykernel_85904\\19546063.py:3: UserWarning: Boolean Series key will be reindexed to match DataFrame index.\n",
      "  df1 = df[~pd.isna(place_df[variable])]\n"
     ]
    },
    {
     "data": {
      "image/png": "[encoded data removed]",
      "text/plain": [
       "<Figure size 432x288 with 1 Axes>"
      ]
     },
     "metadata": {
      "needs_background": "light"
     },
     "output_type": "display_data"
    },
    {
     "name": "stdout",
     "output_type": "stream",
     "text": [
      "Median_Age range from 14.2 to 74.5\n",
      "num total: 9541\n",
      "         Place_Name State_Abbr  Median_Age\n",
      "4053    Kiryas Joel         NY        14.2\n",
      "4063          Kaser         NY        15.4\n",
      "3922     New Square         NY        15.5\n",
      "9584  Colorado City         AZ        17.8\n",
      "4724   Lakewoodship         NJ        18.4\n",
      "8697         Laurel         DE        20.0\n",
      "4388         Alfred         NY        20.1\n",
      "3301     Cedarville         OH        20.4\n",
      "1030   Prairie View         TX        20.5\n",
      "5019         Durham         NH        20.6\n"
     ]
    }
   ],
   "source": [
    "print_info(\"Median_Age\", place_df[place_df.Median_Age > 0], True)"
   ]
  },
  {
   "cell_type": "code",
   "execution_count": 61,
   "id": "e276eab8",
   "metadata": {
    "scrolled": false
   },
   "outputs": [
    {
     "data": {
      "image/png": "[encoded data removed]",
      "text/plain": [
       "<Figure size 432x288 with 1 Axes>"
      ]
     },
     "metadata": {
      "needs_background": "light"
     },
     "output_type": "display_data"
    },
    {
     "name": "stdout",
     "output_type": "stream",
     "text": [
      "Percent_Black range from 0.0 to 98.79\n",
      "num total: 9775\n",
      "                Place_Name State_Abbr  Percent_Black\n",
      "5209             Pine Lawn         MO          98.79\n",
      "8028      East Saint Louis         IL          96.22\n",
      "5216              Pagedale         MO          95.02\n",
      "6783      District Heights         MD          94.87\n",
      "1030          Prairie View         TX          94.76\n",
      "5227            Northwoods         MO          93.37\n",
      "9625              Tuskegee         AL          93.29\n",
      "8076           Centreville         IL          93.01\n",
      "3021  Warrensville Heights         OH          92.81\n",
      "5863         Royal Oakship         MI          92.80\n"
     ]
    }
   ],
   "source": [
    "print_info(\"Percent_Black\", place_df, False)"
   ]
  },
  {
   "cell_type": "code",
   "execution_count": 93,
   "id": "a29581f2",
   "metadata": {
    "scrolled": false
   },
   "outputs": [
    {
     "data": {
      "image/png": "[encoded data removed]",
      "text/plain": [
       "<Figure size 432x288 with 1 Axes>"
      ]
     },
     "metadata": {
      "needs_background": "light"
     },
     "output_type": "display_data"
    },
    {
     "name": "stdout",
     "output_type": "stream",
     "text": [
      "Percent_White range from 0.0 to 100.0\n",
      "num total: 9707\n",
      "             Place_Name State_Abbr  Percent_White\n",
      "5971    New Buffaloship         MI            0.0\n",
      "8532          Groveland         FL            0.0\n",
      "8530           Gulfport         FL            0.0\n",
      "3856           Pavilion         NY            0.0\n",
      "8138      Warner Robins         GA            0.0\n",
      "5636         Empireship         MN            0.0\n",
      "3861            Pamelia         NY            0.0\n",
      "164             Oshkosh         WI            0.0\n",
      "1803  Upper Burrellship         PA            0.0\n",
      "5047            Andover         NH            0.0\n"
     ]
    }
   ],
   "source": [
    "print_info(\"Percent_White\", place_df, True)"
   ]
  },
  {
   "cell_type": "code",
   "execution_count": 63,
   "id": "d8627bfe",
   "metadata": {
    "scrolled": false
   },
   "outputs": [
    {
     "data": {
      "image/png": "[encoded data removed]",
      "text/plain": [
       "<Figure size 432x288 with 1 Axes>"
      ]
     },
     "metadata": {
      "needs_background": "light"
     },
     "output_type": "display_data"
    },
    {
     "name": "stdout",
     "output_type": "stream",
     "text": [
      "Percent_Native range from 0.0 to 83.84\n",
      "num total: 9775\n",
      "           Place_Name State_Abbr  Percent_Native\n",
      "217         Menominee         WI           83.84\n",
      "9606         Kotzebue         AK           68.12\n",
      "9613           Bethel         AK           65.18\n",
      "9559             Page         AZ           56.12\n",
      "3459         Pembroke         NC           56.02\n",
      "9605             Nome         AK           55.71\n",
      "250   Lac du Flambeau         WI           51.75\n",
      "5121       Wolf Point         MT           50.04\n",
      "1585         Sisseton         SD           49.65\n",
      "2877         Stilwell         OK           48.07\n"
     ]
    }
   ],
   "source": [
    "print_info(\"Percent_Native\", place_df, False)"
   ]
  },
  {
   "cell_type": "code",
   "execution_count": 94,
   "id": "67cb9d0a",
   "metadata": {
    "scrolled": false
   },
   "outputs": [
    {
     "data": {
      "image/png": "[encoded data removed]",
      "text/plain": [
       "<Figure size 432x288 with 1 Axes>"
      ]
     },
     "metadata": {
      "needs_background": "light"
     },
     "output_type": "display_data"
    },
    {
     "name": "stdout",
     "output_type": "stream",
     "text": [
      "Percent_Asian range from 0.0 to 69.36\n",
      "num total: 9707\n",
      "         Place_Name State_Abbr  Percent_Asian\n",
      "9248      Cupertino         CA          69.36\n",
      "9098       Milpitas         CA          67.53\n",
      "8986     San Marino         CA          66.54\n",
      "8920         Walnut         CA          65.55\n",
      "9091  Monterey Park         CA          65.06\n",
      "8940    Temple City         CA          64.88\n",
      "9009       Rosemead         CA          64.45\n",
      "9205        Fremont         CA          61.38\n",
      "9239    Diamond Bar         CA          60.98\n",
      "8995    San Gabriel         CA          60.72\n"
     ]
    }
   ],
   "source": [
    "print_info(\"Percent_Asian\", place_df, False)"
   ]
  },
  {
   "cell_type": "code",
   "execution_count": 95,
   "id": "8167cbe2",
   "metadata": {
    "scrolled": false
   },
   "outputs": [
    {
     "data": {
      "image/png": "[encoded data removed]",
      "text/plain": [
       "<Figure size 432x288 with 1 Axes>"
      ]
     },
     "metadata": {
      "needs_background": "light"
     },
     "output_type": "display_data"
    },
    {
     "name": "stdout",
     "output_type": "stream",
     "text": [
      "Percent_Mixed range from 0.0 to 38.62\n",
      "num total: 9707\n",
      "        Place_Name State_Abbr  Percent_Mixed\n",
      "6681       Chelsea         MA          38.62\n",
      "1010     Rio Bravo         TX          37.23\n",
      "1415         Alton         TX          36.10\n",
      "1048       Penitas         TX          34.90\n",
      "1027      Presidio         TX          33.42\n",
      "4416         Milan         NM          33.06\n",
      "8885    Black Hawk         CO          31.76\n",
      "8506  Key Biscayne         FL          31.71\n",
      "4399      Tularosa         NM          31.69\n",
      "8128      Mililani         HI          30.28\n"
     ]
    }
   ],
   "source": [
    "print_info(\"Percent_Mixed\", place_df, False)"
   ]
  },
  {
   "cell_type": "code",
   "execution_count": null,
   "id": "acea9bec",
   "metadata": {},
   "outputs": [],
   "source": [
    "##############################\n",
    "# SOCIOECONOMICS\n",
    "##############################"
   ]
  },
  {
   "cell_type": "code",
   "execution_count": 96,
   "id": "fd6d08a7",
   "metadata": {},
   "outputs": [
    {
     "data": {
      "image/png": "[encoded data removed]",
      "text/plain": [
       "<Figure size 432x288 with 1 Axes>"
      ]
     },
     "metadata": {
      "needs_background": "light"
     },
     "output_type": "display_data"
    },
    {
     "name": "stdout",
     "output_type": "stream",
     "text": [
      "Percent_High_School range from 0.0 to 100.0\n",
      "num total: 9707\n",
      "       Place_Name State_Abbr  Percent_High_School\n",
      "246     La Grange         WI                  0.0\n",
      "5578  Maple Grove         MN                  0.0\n",
      "2555   Dallasship         PA                  0.0\n",
      "9545       Bethel         AK                  0.0\n",
      "2543   Delmarship         PA                  0.0\n",
      "9546       Barrow         AK                  0.0\n",
      "1680   Darlington         SC                  0.0\n",
      "3774      Sanford         NY                  0.0\n",
      "3790    Rosendale         NY                  0.0\n",
      "8743   Farmington         CT                  0.0\n"
     ]
    }
   ],
   "source": [
    "print_info(\"Percent_High_School\", place_df, True)"
   ]
  },
  {
   "cell_type": "code",
   "execution_count": 97,
   "id": "f325dd52",
   "metadata": {},
   "outputs": [
    {
     "data": {
      "image/png": "[encoded data removed]",
      "text/plain": [
       "<Figure size 432x288 with 1 Axes>"
      ]
     },
     "metadata": {
      "needs_background": "light"
     },
     "output_type": "display_data"
    },
    {
     "name": "stdout",
     "output_type": "stream",
     "text": [
      "Percent_Bachelors range from 0.0 to 93.9\n",
      "num total: 9706\n",
      "                 Place_Name State_Abbr  Percent_Bachelors\n",
      "6784            Chevy Chase         MD               93.9\n",
      "101         Shorewood Hills         WI               92.0\n",
      "903   West University Place         TX               91.3\n",
      "7871             Kenilworth         IL               91.2\n",
      "3765              Scarsdale         NY               90.7\n",
      "3945            Munsey Park         NY               90.5\n",
      "7623               Winnetka         IL               90.4\n",
      "953   Spring Valley Village         TX               88.9\n",
      "924         University Park         TX               88.5\n",
      "7219          Mission Hills         KS               87.9\n"
     ]
    }
   ],
   "source": [
    "print_info(\"Percent_Bachelors\", place_df, False)"
   ]
  },
  {
   "cell_type": "code",
   "execution_count": 98,
   "id": "0cd811e6",
   "metadata": {},
   "outputs": [
    {
     "data": {
      "image/png": "[encoded data removed]",
      "text/plain": [
       "<Figure size 432x288 with 1 Axes>"
      ]
     },
     "metadata": {
      "needs_background": "light"
     },
     "output_type": "display_data"
    },
    {
     "name": "stdout",
     "output_type": "stream",
     "text": [
      "Percent_In_Poverty range from 0.0 to 64.4\n",
      "num total: 9707\n",
      "           Place_Name State_Abbr  Percent_In_Poverty\n",
      "3195  Lincoln Heights         OH                64.4\n",
      "9556    Union Springs         AL                63.7\n",
      "3920       New Square         NY                60.6\n",
      "4061            Kaser         NY                60.4\n",
      "3594            Boone         NC                55.3\n",
      "6993            Mamou         LA                54.9\n",
      "1029     Prairie View         TX                53.5\n",
      "6997  Lake Providence         LA                52.3\n",
      "7645  Washington Park         IL                50.9\n",
      "8229         Lakeland         GA                50.8\n"
     ]
    }
   ],
   "source": [
    "print_info(\"Percent_In_Poverty\", place_df, False)"
   ]
  },
  {
   "cell_type": "code",
   "execution_count": 100,
   "id": "e04d8d87",
   "metadata": {},
   "outputs": [
    {
     "name": "stderr",
     "output_type": "stream",
     "text": [
      "C:\\Users\\mark.stiles\\AppData\\Local\\Temp\\ipykernel_85904\\19546063.py:3: UserWarning: Boolean Series key will be reindexed to match DataFrame index.\n",
      "  df1 = df[~pd.isna(place_df[variable])]\n"
     ]
    },
    {
     "data": {
      "image/png": "[encoded data removed]",
      "text/plain": [
       "<Figure size 432x288 with 1 Axes>"
      ]
     },
     "metadata": {
      "needs_background": "light"
     },
     "output_type": "display_data"
    },
    {
     "name": "stdout",
     "output_type": "stream",
     "text": [
      "Percent_Health_Coverage range from 49.7 to 100.0\n",
      "num total: 9413\n",
      "         Place_Name State_Abbr  Percent_Health_Coverage\n",
      "2710       Bartship         PA                     49.7\n",
      "2287    Leacockship         PA                     54.8\n",
      "9516  Colorado City         AZ                     56.7\n",
      "1948  Salisburyship         PA                     58.3\n",
      "1048        Penitas         TX                     59.8\n",
      "947   Sullivan City         TX                     61.0\n",
      "1415          Alton         TX                     61.2\n",
      "2418     Fultonship         PA                     62.0\n",
      "1035    Port Isabel         TX                     62.3\n",
      "2593   Colerainship         PA                     63.6\n"
     ]
    }
   ],
   "source": [
    "print_info(\"Percent_Health_Coverage\", place_df[place_df.Percent_Health_Coverage > 0], True)"
   ]
  },
  {
   "cell_type": "code",
   "execution_count": 101,
   "id": "9a635db2",
   "metadata": {},
   "outputs": [
    {
     "data": {
      "image/png": "[encoded data removed]",
      "text/plain": [
       "<Figure size 432x288 with 1 Axes>"
      ]
     },
     "metadata": {
      "needs_background": "light"
     },
     "output_type": "display_data"
    },
    {
     "name": "stdout",
     "output_type": "stream",
     "text": [
      "Percent_Speak_Spanish range from 0.0 to 97.5\n",
      "num total: 9707\n",
      "           Place_Name State_Abbr  Percent_Speak_Spanish\n",
      "947     Sullivan City         TX                   97.5\n",
      "1027         Presidio         TX                   96.3\n",
      "1282          Edcouch         TX                   95.8\n",
      "988      San Elizario         TX                   94.9\n",
      "1010        Rio Bravo         TX                   94.6\n",
      "1001             Roma         TX                   94.6\n",
      "527           Mattawa         WA                   94.6\n",
      "1204          Hidalgo         TX                   94.5\n",
      "8526  Hialeah Gardens         FL                   94.0\n",
      "9294         Calexico         CA                   93.6\n"
     ]
    }
   ],
   "source": [
    "print_info(\"Percent_Speak_Spanish\", place_df, False)"
   ]
  },
  {
   "cell_type": "code",
   "execution_count": 1247,
   "id": "4d424e16",
   "metadata": {},
   "outputs": [],
   "source": [
    "# SCATTER PLOTS ######################"
   ]
  },
  {
   "cell_type": "code",
   "execution_count": 203,
   "id": "5af5ed18",
   "metadata": {},
   "outputs": [
    {
     "data": {
      "image/png": "[encoded data removed]",
      "text/plain": [
       "<Figure size 432x288 with 1 Axes>"
      ]
     },
     "metadata": {
      "needs_background": "light"
     },
     "output_type": "display_data"
    }
   ],
   "source": [
    "# there's a minimum number of industries for a town to succeed\n",
    "plot_df = place_df\n",
    "\n",
    "colors = []\n",
    "for b in plot_df.Performance:\n",
    "    c = \"red\" if b == \"Above\" else \"#1f77b4\"\n",
    "    colors.append(c)\n",
    "    \n",
    "plt.title(f\"Population by Industry Count\")\n",
    "plt.scatter(plot_df.Population, plot_df.Industry_Count, color=colors)\n",
    "plt.xticks(rotation=45, ha=\"right\")\n",
    "plt.legend(handles=[mpatches.Patch(color='red', label='Above Average Performance')])\n",
    "plt.show()"
   ]
  },
  {
   "cell_type": "code",
   "execution_count": 201,
   "id": "9fc453e1",
   "metadata": {},
   "outputs": [
    {
     "data": {
      "image/png": "[encoded data removed]",
      "text/plain": [
       "<Figure size 432x288 with 1 Axes>"
      ]
     },
     "metadata": {
      "needs_background": "light"
     },
     "output_type": "display_data"
    }
   ],
   "source": [
    "# there's a minimum number of industries for a town to succeed\n",
    "plot_df = place_df[(place_df.Population < 80000) & (place_df.Industry_Count > 2)]\n",
    "\n",
    "colors = []\n",
    "for b in plot_df.Performance:\n",
    "    c = \"red\" if b == \"Above\" else \"#1f77b4\"\n",
    "    colors.append(c)\n",
    "    \n",
    "plt.title(f\"Population by Industry Count (pop < 80,000 and ind > 2)\")\n",
    "plt.scatter(plot_df.Population, plot_df.Industry_Count, color=colors)\n",
    "plt.xticks(rotation=45, ha=\"right\")\n",
    "plt.legend(handles=[mpatches.Patch(color='red', label='Above Average Performance')])\n",
    "plt.show()"
   ]
  },
  {
   "cell_type": "code",
   "execution_count": 103,
   "id": "f56521f6",
   "metadata": {
    "scrolled": true
   },
   "outputs": [
    {
     "data": {
      "image/png": "[encoded data removed]",
      "text/plain": [
       "<Figure size 432x288 with 1 Axes>"
      ]
     },
     "metadata": {
      "needs_background": "light"
     },
     "output_type": "display_data"
    }
   ],
   "source": [
    "# with too few industries you can't make a high revenue but more industries doesn't guarantee high revenue\n",
    "plot_df = place_df[(place_df.All_Revenue < 10000000) & (place_df.Industry_Count > 2)]\n",
    "\n",
    "colors = []\n",
    "for b in plot_df.Performance:\n",
    "    c = \"red\" if b == \"Above\" else \"#1f77b4\"\n",
    "    colors.append(c)\n",
    "    \n",
    "plt.title(f\"Population by Industry Count\")\n",
    "plt.scatter(plot_df.All_Revenue, plot_df.Industry_Count, color=colors)\n",
    "plt.xticks(rotation=45, ha=\"right\")\n",
    "plt.legend(handles=[mpatches.Patch(color='red', label='Above Average Performance')])\n",
    "plt.show()"
   ]
  },
  {
   "cell_type": "code",
   "execution_count": 102,
   "id": "2d578501",
   "metadata": {},
   "outputs": [
    {
     "data": {
      "image/png": "[encoded data removed]",
      "text/plain": [
       "<Figure size 432x288 with 1 Axes>"
      ]
     },
     "metadata": {
      "needs_background": "light"
     },
     "output_type": "display_data"
    }
   ],
   "source": [
    "plot_df = place_df[place_df.All_Revenue < 6000000]\n",
    "\n",
    "bool_arr = (plot_df.Population * 45 > plot_df.All_Revenue)\n",
    "colors = []\n",
    "for b in bool_arr:\n",
    "    c = \"#1f77b4\" if b else \"red\"\n",
    "    colors.append(c)\n",
    "\n",
    "fig, ax = plt.subplots()\n",
    "ax.scatter(plot_df.Population, plot_df.All_Revenue, c=colors)\n",
    "line = mlines.Line2D([0, 1], [0, 1], color='red')\n",
    "transform = ax.transAxes\n",
    "line.set_transform(transform)\n",
    "ax.add_line(line)\n",
    "plt.show()"
   ]
  },
  {
   "cell_type": "code",
   "execution_count": 106,
   "id": "a4d67c73",
   "metadata": {},
   "outputs": [
    {
     "data": {
      "image/png": "[encoded data removed]",
      "text/plain": [
       "<Figure size 432x288 with 1 Axes>"
      ]
     },
     "metadata": {
      "needs_background": "light"
     },
     "output_type": "display_data"
    }
   ],
   "source": [
    "plot_df = place_df[place_df.All_Revenue < 10000000]\n",
    "plt.title(f\"Population by Revenue (rev < 10 Billion)\")\n",
    "plt.scatter(plot_df.Population, plot_df.All_Revenue)\n",
    "plt.xticks(rotation=45, ha=\"right\")\n",
    "plt.show()"
   ]
  },
  {
   "cell_type": "code",
   "execution_count": 112,
   "id": "fc006ba7",
   "metadata": {},
   "outputs": [],
   "source": [
    "##############################\n",
    "# STATISTICAL RELEVANCE\n",
    "##############################"
   ]
  },
  {
   "cell_type": "code",
   "execution_count": null,
   "id": "7dfc770a",
   "metadata": {},
   "outputs": [],
   "source": [
    "drop_cols = [\n",
    " 'Place_Name', 'State_Abbr', 'State_Name', 'Type', 'All_Employers', 'All_Employees', 'All_Payroll',\n",
    " 'Agriculture_Employers','Agriculture_Employees','Agriculture_Payroll','Agriculture_Revenue',\n",
    " 'Construction_Employers','Construction_Employees','Construction_Payroll','Construction_Revenue',\n",
    " 'Finance_Revenue',\n",
    " 'Information_Revenue',\n",
    " 'Management_Employers','Management_Employees','Management_Payroll','Management_Revenue',\n",
    " 'Manufacturing_Employers','Manufacturing_Employees','Manufacturing_Payroll','Manufacturing_Revenue',\n",
    " 'Mining_Employers','Mining_Employees','Mining_Payroll','Mining_Revenue',\n",
    " 'Utilities_Revenue',\n",
    " 'Wholesale_Employers','Wholesale_Employees','Wholesale_Payroll','Wholesale_Revenue',\n",
    " 'Consumer_Total_Expense','Consumer_Expense_Alcohol','Consumer_Expense_Alcohol_Home','Consumer_Expense_Beer_Bar','Consumer_Expense_Wine_Bar','Consumer_Expense_Clothes','Consumer_Expense_Mens_Clothes',\n",
    " 'Consumer_Expense_Womens_Clothes','Consumer_Expense_Childrens_Clothes','Consumer_Expense_Boys_Clothes','Consumer_Expense_Girls_Clothes','Consumer_Expense_Footwear','Consumer_Expense_Dining',\n",
    " 'Consumer_Expense_Dining_Breakfast','Consumer_Expense_Dining_Lunch','Consumer_Expense_Dining_Dinner','Consumer_Expense_Education','Consumer_Expense_Entertainment','Consumer_Expense_Clubs',\n",
    " 'Consumer_Expense_Dating','Consumer_Expense_Pet_Food','Consumer_Expense_Pet_Services','Consumer_Expense_Food_Home','Consumer_Expense_Bakery_Home','Consumer_Expense_Dairy_Home','Consumer_Expense_Fruits_Home',\n",
    " 'Consumer_Expense_Meat_Home','Consumer_Expense_Nonalcohol_Home','Consumer_Expense_Snacks_Home','Consumer_Expense_Healthcare','Consumer_Expense_Mentalcare','Consumer_Expense_Drugcar','Consumer_Expense_House_Services',\n",
    " 'Consumer_Expense_Eldercare','Consumer_Expense_Landscape','Consumer_Expense_Housekeeping','Consumer_Expense_PC','Consumer_Expense_Housing','Consumer_Expense_Home_Improvements','Consumer_Expense_Energy',\n",
    " 'Consumer_Expense_Phone','Consumer_Expense_Water','Consumer_Expense_Insurance','Consumer_Expense_Pensions','Consumer_Expense_Personalcare','Consumer_Expense_Haircare','Consumer_Expense_Personalcare_Products',\n",
    " 'Consumer_Expense_Transport','Consumer_Expense_Gas','Consumer_Expense_Vehicle_Repair','Consumer_Expense_Travel','Consumer_Expense_Airfare','Consumer_Expense_Auto_Rentals','Consumer_Expense_Travel_Lodging',\n",
    " 'Consumer_Expense_Travel_Meals','Consumer_Expense_Travel_Entertainment',\n",
    " 'All_Employee_Per_Employer','All_Revenue_Per_Employer','All_Avg_Payroll_Per_Employee','All_Population_Per_Employer',\n",
    " 'Food_Services_Employee_Per_Employer','Food_Services_Revenue_Per_Employer','Food_Services_Avg_Payroll_Per_Employee','Food_Services_Population_Per_Employer','Waste_Management_Employee_Per_Employer',\n",
    " 'Waste_Management_Revenue_Per_Employer','Waste_Management_Avg_Payroll_Per_Employee','Waste_Management_Population_Per_Employer','Agriculture_Employee_Per_Employer','Agriculture_Revenue_Per_Employer',\n",
    " 'Agriculture_Avg_Payroll_Per_Employee','Agriculture_Population_Per_Employer','Arts_Employee_Per_Employer','Arts_Revenue_Per_Employer','Arts_Avg_Payroll_Per_Employee','Arts_Population_Per_Employer',\n",
    " 'Construction_Employee_Per_Employer','Construction_Revenue_Per_Employer','Construction_Avg_Payroll_Per_Employee','Construction_Population_Per_Employer','Education_Employee_Per_Employer',\n",
    " 'Education_Revenue_Per_Employer','Education_Avg_Payroll_Per_Employee','Education_Population_Per_Employer','Finance_Employee_Per_Employer','Finance_Revenue_Per_Employer','Finance_Avg_Payroll_Per_Employee',\n",
    " 'Finance_Population_Per_Employer','Healthcare_Employee_Per_Employer','Healthcare_Revenue_Per_Employer','Healthcare_Avg_Payroll_Per_Employee','Healthcare_Population_Per_Employer','Information_Employee_Per_Employer',\n",
    " 'Information_Revenue_Per_Employer','Information_Avg_Payroll_Per_Employee','Information_Population_Per_Employer','Management_Employee_Per_Employer','Management_Revenue_Per_Employer','Management_Avg_Payroll_Per_Employee',\n",
    " 'Management_Population_Per_Employer','Manufacturing_Employee_Per_Employer','Manufacturing_Revenue_Per_Employer','Manufacturing_Avg_Payroll_Per_Employee','Manufacturing_Population_Per_Employer','Mining_Employee_Per_Employer',\n",
    " 'Mining_Revenue_Per_Employer','Mining_Avg_Payroll_Per_Employee','Mining_Population_Per_Employer','Other_Employee_Per_Employer','Other_Revenue_Per_Employer','Other_Avg_Payroll_Per_Employee','Other_Population_Per_Employer',\n",
    " 'Technical_Employee_Per_Employer','Technical_Revenue_Per_Employer','Technical_Avg_Payroll_Per_Employee','Technical_Population_Per_Employer','Real_Estate_Employee_Per_Employer','Real_Estate_Revenue_Per_Employer',\n",
    " 'Real_Estate_Avg_Payroll_Per_Employee','Real_Estate_Population_Per_Employer','Retail_Employee_Per_Employer','Retail_Revenue_Per_Employer','Retail_Avg_Payroll_Per_Employee','Retail_Population_Per_Employer',\n",
    " 'Transportation_Employee_Per_Employer','Transportation_Revenue_Per_Employer','Transportation_Avg_Payroll_Per_Employee','Transportation_Population_Per_Employer','Utilities_Employee_Per_Employer','Utilities_Revenue_Per_Employer',\n",
    " 'Utilities_Avg_Payroll_Per_Employee','Utilities_Population_Per_Employer','Wholesale_Employee_Per_Employer','Wholesale_Revenue_Per_Employer','Wholesale_Avg_Payroll_Per_Employee','Wholesale_Population_Per_Employer',\n",
    " 'Income_Per_Revenue',\n",
    " 'Revenue_Per_Person','Profit_Per_Person',\n",
    " 'Population_Range', 'Performance'\n",
    "]"
   ]
  },
  {
   "cell_type": "code",
   "execution_count": 265,
   "id": "352f17b9",
   "metadata": {},
   "outputs": [],
   "source": [
    "cols = [\n",
    "#'All_Revenue',\n",
    "'Food_Services_Employers','Food_Services_Payroll',\n",
    "#'Food_Services_Employees',\n",
    "'Waste_Management_Employers','Waste_Management_Employees','Waste_Management_Payroll',\n",
    "'Arts_Employers','Arts_Employees','Arts_Payroll',\n",
    "'Education_Employers','Education_Employees','Education_Payroll',\n",
    "'Finance_Employers','Finance_Payroll',\n",
    "#'Finance_Employees',    \n",
    "#'Healthcare_Employers',\n",
    "'Healthcare_Employees','Healthcare_Payroll',\n",
    "'Information_Employers','Information_Employees',\n",
    "#'Information_Payroll',\n",
    "'Other_Employers','Other_Employees','Other_Payroll',\n",
    "'Technical_Employers','Technical_Employees','Technical_Payroll',\n",
    "'Real_Estate_Employers','Real_Estate_Payroll',\n",
    "#'Real_Estate_Employees',\n",
    "'Retail_Employers',\n",
    "'Retail_Employees','Retail_Payroll',\n",
    "#'Transportation_Employers','Transportation_Employees',\n",
    "'Transportation_Payroll',\n",
    "'Utilities_Employers',#'Utilities_Employees',\n",
    "'Utilities_Payroll',\n",
    "#'Revenue_Per_Employee',\n",
    "'Revenue_Per_Employer',\n",
    "'Profit','Population',\n",
    "#'Percent_Male','Percent_Female','Percent_Under_5','Percent_Under_18','Percent_18_Over',\n",
    "'Percent_21_Over','Percent_25_64','Percent_65_Over',\n",
    "#'Percent_White','Percent_Native','Percent_Islander','Percent_Mixed','Percent_Black','Percent_Other','Percent_Hispanic',\n",
    "'Percent_Asian',\n",
    "#'Median_Age','Median_Income','Average_Income','Average_Household_Size','Average_Commute_Time',\n",
    "#'Percent_High_School','Percent_16_Over_Working','Percent_Employed','Percent_Disabled','Percent_Health_Coverage','Percent_16_Over_Commuters',\n",
    "#'Percent_Bachelors','Percent_In_Poverty','Percent_Drive_Carpool','Percent_Walk','Percent_Other_Transport','Percent_Home_Office',\n",
    "'Percent_Drive_Alone','Percent_Public_Transport',\n",
    "#'Percent_0_Car','Percent_1_Car','Percent_2_Car',\n",
    "#'Percent_Veterans','Percent_Foreign','Percent_Speak_Spanish','Percent_Speak_IndoEuropean','Percent_Speak_Asian',\n",
    "'Housing_Units_Total','Housing_Units_Owner','Housing_Units_Single_Family',\n",
    "#'Housing_Units_Renter','Ownership_Rate','Vacancy_Rate',\n",
    "#'Percent_Broadband',\n",
    "'Housing_Units_Median_Value','Average_House_Value',\n",
    "#'Median_Owner_Monthly_Cost','Avg_Owner_Monthly_Cost','Median_Rent',\n",
    "#'Average_Rent','Median_Year_Built',\n",
    "'1_Unit_Buildings','2_Unit_Buildings','2_Unit_Buildings_Units','2_Unit_Buildings_Value','3_4_Unit_Buildings','3_4_Unit_Buildings_Units','3_4_Unit_Buildings_Value',\n",
    "#'1_Unit_Buildings_Value','1_Unit_Buildings_Units',\n",
    "#'5_Over_Unit_Buildings','5_Over_Unit_Buildings_Value','5_Over_Unit_Buildings_Units',\n",
    "#'Arts_Employee_Per_Employer','Arts_Population_Per_Employer',\n",
    "'Arts_Revenue_Per_Employer','Arts_Avg_Payroll_Per_Employee',\n",
    "#'Healthcare_Employee_Per_Employer','Healthcare_Revenue_Per_Employer','Healthcare_Avg_Payroll_Per_Employee','Healthcare_Population_Per_Employer',\n",
    "#'Other_Employee_Per_Employer','Other_Revenue_Per_Employer','Other_Avg_Payroll_Per_Employee','Other_Population_Per_Employer',\n",
    "#'Retail_Employee_Per_Employer','Retail_Revenue_Per_Employer',#'Retail_Avg_Payroll_Per_Employee','Retail_Population_Per_Employer',\n",
    "#'Industry_Count'\n",
    "]"
   ]
  },
  {
   "cell_type": "code",
   "execution_count": 270,
   "id": "0699e0c9",
   "metadata": {},
   "outputs": [],
   "source": [
    "stat_cols = [\n",
    "'Food_Services_Employers','Food_Services_Payroll',\n",
    "'Waste_Management_Employers','Waste_Management_Employees','Waste_Management_Payroll',\n",
    "'Arts_Employers','Arts_Employees','Arts_Payroll',\n",
    "'Education_Employers','Education_Employees','Education_Payroll',\n",
    "'Finance_Employers','Finance_Payroll',\n",
    "'Healthcare_Employees','Healthcare_Payroll',\n",
    "'Information_Employers','Information_Employees',\n",
    "'Other_Employers','Other_Employees','Other_Payroll',\n",
    "'Technical_Employers','Technical_Employees','Technical_Payroll',\n",
    "'Real_Estate_Employers','Real_Estate_Payroll',\n",
    "'Retail_Employers',\n",
    "'Retail_Employees','Retail_Payroll',\n",
    "'Transportation_Payroll',\n",
    "'Utilities_Employers',\n",
    "'Utilities_Payroll',\n",
    "'Revenue_Per_Employer',\n",
    "'Profit','Population',\n",
    "'Percent_21_Over','Percent_25_64','Percent_65_Over',\n",
    "'Percent_Asian',\n",
    "'Percent_Drive_Alone','Percent_Public_Transport',\n",
    "'Housing_Units_Total','Housing_Units_Owner','Housing_Units_Single_Family',\n",
    "'Housing_Units_Median_Value','Average_House_Value',\n",
    "'1_Unit_Buildings','2_Unit_Buildings','2_Unit_Buildings_Units','2_Unit_Buildings_Value','3_4_Unit_Buildings','3_4_Unit_Buildings_Units','3_4_Unit_Buildings_Value',\n",
    "'Arts_Revenue_Per_Employer','Arts_Avg_Payroll_Per_Employee',\n",
    "]"
   ]
  },
  {
   "cell_type": "code",
   "execution_count": 271,
   "id": "c6f5d8c2",
   "metadata": {
    "scrolled": true
   },
   "outputs": [
    {
     "data": {
      "text/plain": [
       "54"
      ]
     },
     "execution_count": 271,
     "metadata": {},
     "output_type": "execute_result"
    }
   ],
   "source": [
    "len(stat_cols)"
   ]
  },
  {
   "cell_type": "code",
   "execution_count": 274,
   "id": "92190104",
   "metadata": {},
   "outputs": [
    {
     "name": "stdout",
     "output_type": "stream",
     "text": [
      "'Unnamed: 0',\n",
      "'GeoId',\n",
      "'Place_Name',\n",
      "'State_Abbr',\n",
      "'State_Name',\n",
      "'Type',\n",
      "'All_Employers',\n",
      "'All_Employees',\n",
      "'All_Payroll',\n",
      "'All_Revenue',\n",
      "'Food_Services_Employees',\n",
      "'Food_Services_Revenue',\n",
      "'Waste_Management_Revenue',\n",
      "'Agriculture_Employers',\n",
      "'Agriculture_Employees',\n",
      "'Agriculture_Payroll',\n",
      "'Agriculture_Revenue',\n",
      "'Arts_Revenue',\n",
      "'Construction_Employers',\n",
      "'Construction_Employees',\n",
      "'Construction_Payroll',\n",
      "'Construction_Revenue',\n",
      "'Education_Revenue',\n",
      "'Finance_Employees',\n",
      "'Finance_Revenue',\n",
      "'Healthcare_Employers',\n",
      "'Healthcare_Revenue',\n",
      "'Information_Payroll',\n",
      "'Information_Revenue',\n",
      "'Management_Employers',\n",
      "'Management_Employees',\n",
      "'Management_Payroll',\n",
      "'Management_Revenue',\n",
      "'Manufacturing_Employers',\n",
      "'Manufacturing_Employees',\n",
      "'Manufacturing_Payroll',\n",
      "'Manufacturing_Revenue',\n",
      "'Mining_Employers',\n",
      "'Mining_Employees',\n",
      "'Mining_Payroll',\n",
      "'Mining_Revenue',\n",
      "'Other_Revenue',\n",
      "'Technical_Revenue',\n",
      "'Real_Estate_Employees',\n",
      "'Real_Estate_Revenue',\n",
      "'Retail_Revenue',\n",
      "'Transportation_Employers',\n",
      "'Transportation_Employees',\n",
      "'Transportation_Revenue',\n",
      "'Utilities_Employees',\n",
      "'Utilities_Revenue',\n",
      "'Wholesale_Employers',\n",
      "'Wholesale_Employees',\n",
      "'Wholesale_Payroll',\n",
      "'Wholesale_Revenue',\n",
      "'Revenue_Per_Employee',\n",
      "'Percent_Male',\n",
      "'Percent_Female',\n",
      "'Percent_Under_5',\n",
      "'Percent_Under_18',\n",
      "'Percent_18_Over',\n",
      "'Median_Age',\n",
      "'Percent_White',\n",
      "'Percent_Black',\n",
      "'Percent_Native',\n",
      "'Percent_Islander',\n",
      "'Percent_Other',\n",
      "'Percent_Mixed',\n",
      "'Percent_Hispanic',\n",
      "'Median_Income',\n",
      "'Average_Income',\n",
      "'Percent_High_School',\n",
      "'Percent_Bachelors',\n",
      "'Average_Household_Size',\n",
      "'Percent_In_Poverty',\n",
      "'Percent_16_Over_Working',\n",
      "'Percent_Employed',\n",
      "'Percent_Disabled',\n",
      "'Percent_Health_Coverage',\n",
      "'Percent_16_Over_Commuters',\n",
      "'Percent_Drive_Carpool',\n",
      "'Percent_Walk',\n",
      "'Percent_Other_Transport',\n",
      "'Percent_Home_Office',\n",
      "'Average_Commute_Time',\n",
      "'Percent_0_Car',\n",
      "'Percent_1_Car',\n",
      "'Percent_2_Car',\n",
      "'Percent_Veterans',\n",
      "'Percent_Foreign',\n",
      "'Percent_Speak_Spanish',\n",
      "'Percent_Speak_IndoEuropean',\n",
      "'Percent_Speak_Asian',\n",
      "'Housing_Units_Renter',\n",
      "'Ownership_Rate',\n",
      "'Vacancy_Rate',\n",
      "'Percent_Broadband',\n",
      "'Median_Owner_Monthly_Cost',\n",
      "'Avg_Owner_Monthly_Cost',\n",
      "'Median_Rent',\n",
      "'Average_Rent',\n",
      "'Median_Year_Built',\n",
      "'1_Unit_Buildings_Units',\n",
      "'1_Unit_Buildings_Value',\n",
      "'5_Over_Unit_Buildings',\n",
      "'5_Over_Unit_Buildings_Value',\n",
      "'5_Over_Unit_Buildings_Units',\n",
      "'Consumer_Total_Expense',\n",
      "'Consumer_Expense_Alcohol',\n",
      "'Consumer_Expense_Alcohol_Home',\n",
      "'Consumer_Expense_Beer_Bar',\n",
      "'Consumer_Expense_Wine_Bar',\n",
      "'Consumer_Expense_Clothes',\n",
      "'Consumer_Expense_Mens_Clothes',\n",
      "'Consumer_Expense_Womens_Clothes',\n",
      "'Consumer_Expense_Childrens_Clothes',\n",
      "'Consumer_Expense_Boys_Clothes',\n",
      "'Consumer_Expense_Girls_Clothes',\n",
      "'Consumer_Expense_Footwear',\n",
      "'Consumer_Expense_Dining',\n",
      "'Consumer_Expense_Dining_Breakfast',\n",
      "'Consumer_Expense_Dining_Lunch',\n",
      "'Consumer_Expense_Dining_Dinner',\n",
      "'Consumer_Expense_Education',\n",
      "'Consumer_Expense_Entertainment',\n",
      "'Consumer_Expense_Clubs',\n",
      "'Consumer_Expense_Dating',\n",
      "'Consumer_Expense_Pet_Food',\n",
      "'Consumer_Expense_Pet_Services',\n",
      "'Consumer_Expense_Food_Home',\n",
      "'Consumer_Expense_Bakery_Home',\n",
      "'Consumer_Expense_Dairy_Home',\n",
      "'Consumer_Expense_Fruits_Home',\n",
      "'Consumer_Expense_Meat_Home',\n",
      "'Consumer_Expense_Nonalcohol_Home',\n",
      "'Consumer_Expense_Snacks_Home',\n",
      "'Consumer_Expense_Healthcare',\n",
      "'Consumer_Expense_Mentalcare',\n",
      "'Consumer_Expense_Drugcar',\n",
      "'Consumer_Expense_House_Services',\n",
      "'Consumer_Expense_Eldercare',\n",
      "'Consumer_Expense_Landscape',\n",
      "'Consumer_Expense_Housekeeping',\n",
      "'Consumer_Expense_PC',\n",
      "'Consumer_Expense_Housing',\n",
      "'Consumer_Expense_Home_Improvements',\n",
      "'Consumer_Expense_Energy',\n",
      "'Consumer_Expense_Phone',\n",
      "'Consumer_Expense_Water',\n",
      "'Consumer_Expense_Insurance',\n",
      "'Consumer_Expense_Pensions',\n",
      "'Consumer_Expense_Personalcare',\n",
      "'Consumer_Expense_Haircare',\n",
      "'Consumer_Expense_Personalcare_Products',\n",
      "'Consumer_Expense_Transport',\n",
      "'Consumer_Expense_Gas',\n",
      "'Consumer_Expense_Vehicle_Repair',\n",
      "'Consumer_Expense_Travel',\n",
      "'Consumer_Expense_Airfare',\n",
      "'Consumer_Expense_Auto_Rentals',\n",
      "'Consumer_Expense_Travel_Lodging',\n",
      "'Consumer_Expense_Travel_Meals',\n",
      "'Consumer_Expense_Travel_Entertainment',\n",
      "'All_Employee_Per_Employer',\n",
      "'All_Revenue_Per_Employer',\n",
      "'All_Avg_Payroll_Per_Employee',\n",
      "'All_Population_Per_Employer',\n",
      "'Food_Services_Employee_Per_Employer',\n",
      "'Food_Services_Revenue_Per_Employer',\n",
      "'Food_Services_Avg_Payroll_Per_Employee',\n",
      "'Food_Services_Population_Per_Employer',\n",
      "'Waste_Management_Employee_Per_Employer',\n",
      "'Waste_Management_Revenue_Per_Employer',\n",
      "'Waste_Management_Avg_Payroll_Per_Employee',\n",
      "'Waste_Management_Population_Per_Employer',\n",
      "'Agriculture_Employee_Per_Employer',\n",
      "'Agriculture_Revenue_Per_Employer',\n",
      "'Agriculture_Avg_Payroll_Per_Employee',\n",
      "'Agriculture_Population_Per_Employer',\n",
      "'Arts_Employee_Per_Employer',\n",
      "'Arts_Population_Per_Employer',\n",
      "'Construction_Employee_Per_Employer',\n",
      "'Construction_Revenue_Per_Employer',\n",
      "'Construction_Avg_Payroll_Per_Employee',\n",
      "'Construction_Population_Per_Employer',\n",
      "'Education_Employee_Per_Employer',\n",
      "'Education_Revenue_Per_Employer',\n",
      "'Education_Avg_Payroll_Per_Employee',\n",
      "'Education_Population_Per_Employer',\n",
      "'Finance_Employee_Per_Employer',\n",
      "'Finance_Revenue_Per_Employer',\n",
      "'Finance_Avg_Payroll_Per_Employee',\n",
      "'Finance_Population_Per_Employer',\n",
      "'Healthcare_Employee_Per_Employer',\n",
      "'Healthcare_Revenue_Per_Employer',\n",
      "'Healthcare_Avg_Payroll_Per_Employee',\n",
      "'Healthcare_Population_Per_Employer',\n",
      "'Information_Employee_Per_Employer',\n",
      "'Information_Revenue_Per_Employer',\n",
      "'Information_Avg_Payroll_Per_Employee',\n",
      "'Information_Population_Per_Employer',\n",
      "'Management_Employee_Per_Employer',\n",
      "'Management_Revenue_Per_Employer',\n",
      "'Management_Avg_Payroll_Per_Employee',\n",
      "'Management_Population_Per_Employer',\n",
      "'Manufacturing_Employee_Per_Employer',\n",
      "'Manufacturing_Revenue_Per_Employer',\n",
      "'Manufacturing_Avg_Payroll_Per_Employee',\n",
      "'Manufacturing_Population_Per_Employer',\n",
      "'Mining_Employee_Per_Employer',\n",
      "'Mining_Revenue_Per_Employer',\n",
      "'Mining_Avg_Payroll_Per_Employee',\n",
      "'Mining_Population_Per_Employer',\n",
      "'Other_Employee_Per_Employer',\n",
      "'Other_Revenue_Per_Employer',\n",
      "'Other_Avg_Payroll_Per_Employee',\n",
      "'Other_Population_Per_Employer',\n",
      "'Technical_Employee_Per_Employer',\n",
      "'Technical_Revenue_Per_Employer',\n",
      "'Technical_Avg_Payroll_Per_Employee',\n",
      "'Technical_Population_Per_Employer',\n",
      "'Real_Estate_Employee_Per_Employer',\n",
      "'Real_Estate_Revenue_Per_Employer',\n",
      "'Real_Estate_Avg_Payroll_Per_Employee',\n",
      "'Real_Estate_Population_Per_Employer',\n",
      "'Retail_Employee_Per_Employer',\n",
      "'Retail_Revenue_Per_Employer',\n",
      "'Retail_Avg_Payroll_Per_Employee',\n",
      "'Retail_Population_Per_Employer',\n",
      "'Transportation_Employee_Per_Employer',\n",
      "'Transportation_Revenue_Per_Employer',\n",
      "'Transportation_Avg_Payroll_Per_Employee',\n",
      "'Transportation_Population_Per_Employer',\n",
      "'Utilities_Employee_Per_Employer',\n",
      "'Utilities_Revenue_Per_Employer',\n",
      "'Utilities_Avg_Payroll_Per_Employee',\n",
      "'Utilities_Population_Per_Employer',\n",
      "'Wholesale_Employee_Per_Employer',\n",
      "'Wholesale_Revenue_Per_Employer',\n",
      "'Wholesale_Avg_Payroll_Per_Employee',\n",
      "'Wholesale_Population_Per_Employer',\n",
      "'Income_Per_Revenue',\n",
      "'Industry_Count',\n",
      "'Revenue_Per_Person',\n",
      "'Profit_Per_Person',\n",
      "'Performance',\n",
      "'Population_Range',\n"
     ]
    }
   ],
   "source": [
    "for i in place_df.columns:\n",
    "    if i in stat_cols:\n",
    "        continue\n",
    "    print(f\"'{i}',\")"
   ]
  },
  {
   "cell_type": "code",
   "execution_count": 266,
   "id": "bde8662a",
   "metadata": {
    "scrolled": false
   },
   "outputs": [
    {
     "name": "stdout",
     "output_type": "stream",
     "text": [
      "                            OLS Regression Results                            \n",
      "==============================================================================\n",
      "Dep. Variable:            All_Revenue   R-squared:                       1.000\n",
      "Model:                            OLS   Adj. R-squared:                  1.000\n",
      "Method:                 Least Squares   F-statistic:                 6.558e+31\n",
      "Date:                Mon, 11 Dec 2023   Prob (F-statistic):               0.00\n",
      "Time:                        16:13:59   Log-Likelihood:             1.6361e+05\n",
      "No. Observations:                9707   AIC:                        -3.271e+05\n",
      "Df Residuals:                    9651   BIC:                        -3.267e+05\n",
      "Df Model:                          55                                         \n",
      "Covariance Type:            nonrobust                                         \n",
      "=================================================================================================\n",
      "                                    coef    std err          t      P>|t|      [0.025      0.975]\n",
      "-------------------------------------------------------------------------------------------------\n",
      "const                         -1.317e-09   8.76e-10     -1.503      0.133   -3.03e-09    4.01e-10\n",
      "Food_Services_Employers       -6.204e-11   5.07e-12    -12.247      0.000    -7.2e-11   -5.21e-11\n",
      "Food_Services_Payroll             1.0000   6.64e-15   1.51e+14      0.000       1.000       1.000\n",
      "Waste_Management_Employers     3.852e-11   6.82e-12      5.646      0.000    2.52e-11    5.19e-11\n",
      "Waste_Management_Employees    -8.402e-13   1.59e-13     -5.289      0.000   -1.15e-12   -5.29e-13\n",
      "Waste_Management_Payroll          1.0000   2.97e-15   3.36e+14      0.000       1.000       1.000\n",
      "Arts_Employers                -6.467e-12   7.75e-12     -0.835      0.404   -2.17e-11    8.72e-12\n",
      "Arts_Employees                -3.627e-12   4.35e-13     -8.333      0.000   -4.48e-12   -2.77e-12\n",
      "Arts_Payroll                      1.0000   9.27e-15   1.08e+14      0.000       1.000       1.000\n",
      "Education_Employers           -8.567e-11   2.73e-11     -3.138      0.002   -1.39e-10   -3.21e-11\n",
      "Education_Employees           -6.847e-12   2.68e-12     -2.556      0.011   -1.21e-11    -1.6e-12\n",
      "Education_Payroll                 1.0000   5.11e-14   1.96e+13      0.000       1.000       1.000\n",
      "Finance_Employers              1.948e-11   4.83e-12      4.035      0.000       1e-11    2.89e-11\n",
      "Finance_Payroll                   1.0000   8.23e-16   1.22e+15      0.000       1.000       1.000\n",
      "Healthcare_Employees           1.363e-12   1.84e-13      7.423      0.000       1e-12    1.72e-12\n",
      "Healthcare_Payroll                1.0000   2.94e-15   3.41e+14      0.000       1.000       1.000\n",
      "Information_Employers          6.217e-11   1.47e-11      4.229      0.000    3.34e-11     9.1e-11\n",
      "Information_Employees         -3.359e-13   3.73e-13     -0.902      0.367   -1.07e-12    3.94e-13\n",
      "Information_Payroll               1.0000   1.54e-15   6.51e+14      0.000       1.000       1.000\n",
      "Other_Employers                 6.49e-11   7.47e-12      8.694      0.000    5.03e-11    7.95e-11\n",
      "Other_Employees               -7.394e-12    1.3e-12     -5.704      0.000   -9.94e-12   -4.85e-12\n",
      "Other_Payroll                     1.0000   1.46e-14   6.84e+13      0.000       1.000       1.000\n",
      "Technical_Employers           -6.448e-12   2.61e-12     -2.472      0.013   -1.16e-11   -1.34e-12\n",
      "Technical_Employees            1.464e-12   3.22e-13      4.541      0.000    8.32e-13     2.1e-12\n",
      "Technical_Payroll                 1.0000   2.87e-15   3.48e+14      0.000       1.000       1.000\n",
      "Real_Estate_Employers          1.751e-11   5.62e-12      3.113      0.002    6.49e-12    2.85e-11\n",
      "Real_Estate_Payroll               1.0000   9.24e-15   1.08e+14      0.000       1.000       1.000\n",
      "Retail_Employers               3.423e-12   4.45e-12      0.769      0.442    -5.3e-12    1.21e-11\n",
      "Retail_Employees              -1.785e-12   3.88e-13     -4.598      0.000   -2.55e-12   -1.02e-12\n",
      "Retail_Payroll                    1.0000   1.11e-14   9.02e+13      0.000       1.000       1.000\n",
      "Transportation_Payroll            1.0000   2.62e-15   3.82e+14      0.000       1.000       1.000\n",
      "Utilities_Employers             1.39e-10   1.05e-10      1.327      0.185   -6.64e-11    3.44e-10\n",
      "Utilities_Payroll                 1.0000   1.38e-14   7.25e+13      0.000       1.000       1.000\n",
      "Revenue_Per_Employer           7.235e-13   1.11e-13      6.497      0.000    5.05e-13    9.42e-13\n",
      "Profit                            1.0000   2.42e-16   4.13e+15      0.000       1.000       1.000\n",
      "Population                    -4.418e-14   1.11e-14     -3.984      0.000   -6.59e-14   -2.24e-14\n",
      "Percent_21_Over                1.096e-11   4.54e-11      0.242      0.809    -7.8e-11    9.99e-11\n",
      "Percent_25_64                 -4.671e-11   4.69e-11     -0.996      0.319   -1.39e-10    4.52e-11\n",
      "Percent_65_Over                -6.11e-11   4.62e-11     -1.323      0.186   -1.52e-10    2.95e-11\n",
      "Percent_Asian                 -1.435e-11    2.6e-11     -0.551      0.582   -6.54e-11    3.67e-11\n",
      "Percent_Drive_Alone           -1.325e-12   8.72e-12     -0.152      0.879   -1.84e-11    1.58e-11\n",
      "Percent_Public_Transport       7.709e-12   3.86e-11      0.200      0.842   -6.79e-11    8.33e-11\n",
      "Housing_Units_Total           -5.891e-15   4.38e-14     -0.134      0.893   -9.18e-14    8.01e-14\n",
      "Housing_Units_Owner           -1.688e-13   7.23e-14     -2.335      0.020    -3.1e-13   -2.71e-14\n",
      "Housing_Units_Single_Family     1.59e-13   3.99e-14      3.989      0.000    8.09e-14    2.37e-13\n",
      "Housing_Units_Median_Value     4.341e-15   9.76e-16      4.447      0.000    2.43e-15    6.25e-15\n",
      "Average_House_Value            1.503e-15   6.86e-16      2.191      0.028    1.58e-16    2.85e-15\n",
      "1_Unit_Buildings              -1.073e-12   8.06e-13     -1.331      0.183   -2.65e-12    5.07e-13\n",
      "2_Unit_Buildings               -6.98e-11   3.15e-11     -2.214      0.027   -1.32e-10   -8.01e-12\n",
      "2_Unit_Buildings_Units         5.812e-16      2e-16      2.910      0.004     1.9e-16    9.73e-16\n",
      "2_Unit_Buildings_Value         8.736e-16   1.36e-16      6.424      0.000    6.07e-16    1.14e-15\n",
      "3_4_Unit_Buildings             -4.06e-11   3.17e-11     -1.282      0.200   -1.03e-10    2.15e-11\n",
      "3_4_Unit_Buildings_Units       1.608e-15   2.15e-16      7.465      0.000    1.19e-15    2.03e-15\n",
      "3_4_Unit_Buildings_Value       1.268e-16   9.75e-17      1.300      0.194   -6.44e-17    3.18e-16\n",
      "Arts_Revenue_Per_Employer      1.528e-13      9e-14      1.698      0.090   -2.36e-14    3.29e-13\n",
      "Arts_Avg_Payroll_Per_Employee -1.943e-14   6.53e-15     -2.976      0.003   -3.22e-14   -6.63e-15\n",
      "==============================================================================\n",
      "Omnibus:                    26343.758   Durbin-Watson:                   1.969\n",
      "Prob(Omnibus):                  0.000   Jarque-Bera (JB):        912375827.734\n",
      "Skew:                         -33.467   Prob(JB):                         0.00\n",
      "Kurtosis:                    1503.439   Cond. No.                     3.45e+07\n",
      "==============================================================================\n",
      "\n",
      "Notes:\n",
      "[1] Standard Errors assume that the covariance matrix of the errors is correctly specified.\n",
      "[2] The condition number is large, 3.45e+07. This might indicate that there are\n",
      "strong multicollinearity or other numerical problems.\n"
     ]
    }
   ],
   "source": [
    "import statsmodels.api as sm\n",
    "from sklearn.preprocessing import StandardScaler\n",
    "\n",
    "x = place_df[cols]\n",
    "y = place_df.All_Revenue\n",
    "\n",
    "# normalize\n",
    "scaler = StandardScaler()\n",
    "scaler.fit(x)\n",
    "\n",
    "# scale the data\n",
    "x_train = scaler.transform(x)\n",
    "\n",
    "est = sm.OLS(y, sm.add_constant(x))\n",
    "est2 = est.fit()\n",
    "print(est2.summary())"
   ]
  },
  {
   "cell_type": "code",
   "execution_count": null,
   "id": "9aed348a",
   "metadata": {},
   "outputs": [],
   "source": [
    "Food_Services_Employers     3634.3413    275.930     13.171      0.000    3093.461    4175.222\n",
    "Food_Services_Employees       98.3484     19.812      4.964      0.000      59.513     137.184\n",
    "Food_Services_Payroll         58.2110      1.941     29.991      0.000      54.406      62.016\n",
    "Food_Services_Revenue        -11.8039      0.585    -20.177      0.000     -12.951     -10.657\n",
    "Waste_Management_Employers  8302.1424    405.544     20.472      0.000    7507.191    9097.093\n",
    "Waste_Management_Employees   196.3286     12.460     15.756      0.000     171.904     220.753\n",
    "Waste_Management_Payroll      -3.3868      0.228    -14.867      0.000      -3.833      -2.940\n",
    "Waste_Management_Revenue       1.6153      0.030     53.553      0.000       1.556       1.674\n",
    "Arts_Employers              -607.0518    303.378     -2.001      0.045   -1201.735     -12.368\n",
    "Arts_Employees               458.6362     40.111     11.434      0.000     380.011     537.261\n",
    "Arts_Payroll                  36.5596      1.012     36.144      0.000      34.577      38.542\n",
    "Arts_Revenue                 -12.9879      0.392    -33.129      0.000     -13.756     -12.219\n",
    "Food_Services_Employers     3634.3413    275.930     13.171      0.000    3093.461    4175.222\n",
    "Food_Services_Employees       98.3484     19.812      4.964      0.000      59.513     137.184\n",
    "Food_Services_Payroll         58.2110      1.941     29.991      0.000      54.406      62.016\n",
    "Food_Services_Revenue        -11.8039      0.585    -20.177      0.000     -12.951     -10.657\n",
    "Waste_Management_Employers  8302.1424    405.544     20.472      0.000    7507.191    9097.093\n",
    "Waste_Management_Employees   196.3286     12.460     15.756      0.000     171.904     220.753\n",
    "Waste_Management_Payroll      -3.3868      0.228    -14.867      0.000      -3.833      -2.940\n",
    "Waste_Management_Revenue       1.6153      0.030     53.553      0.000       1.556       1.674\n",
    "Arts_Employers              -607.0518    303.378     -2.001      0.045   -1201.735     -12.368\n",
    "Arts_Employees               458.6362     40.111     11.434      0.000     380.011     537.261\n",
    "Arts_Payroll                  36.5596      1.012     36.144      0.000      34.577      38.542\n",
    "Arts_Revenue                 -12.9879      0.392    -33.129      0.000     -13.756     -12.219\n",
    "Information_Employers -3018.9164    357.462     -8.445      0.000   -3719.616   -2318.217\n",
    "Information_Employees   172.3496     24.561      7.017      0.000     124.204     220.495\n",
    "#Information_Payroll      -0.1948      0.119     -1.642      0.101      -0.427       0.038\n",
    "Other_Employers       -6628.5683    252.304    -26.272      0.000   -7123.138   -6133.999\n",
    "Other_Employees        4462.3315     77.553     57.539      0.000    4310.312    4614.351\n",
    "Other_Payroll           -81.2209      1.441    -56.345      0.000     -84.047     -78.395\n",
    "Other_Revenue             7.5408      0.187     40.359      0.000       7.175       7.907\n",
    "Technical_Employers    3584.5096    147.728     24.264      0.000    3294.933    3874.087\n",
    "Technical_Employees     617.9680     22.701     27.222      0.000     573.469     662.467\n",
    "Technical_Payroll        -3.2973      0.305    -10.820      0.000      -3.895      -2.700\n",
    "Technical_Revenue         0.2314      0.080      2.877      0.004       0.074       0.389\n",
    "Real_Estate_Employers     1612.0757    445.170      3.621      0.000     739.449    2484.703\n",
    "Real_Estate_Employees    -1618.4220    122.535    -13.208      0.000   -1858.616   -1378.228\n",
    "Real_Estate_Payroll         48.6878      1.628     29.898      0.000      45.496      51.880\n",
    "Real_Estate_Revenue          0.7618      0.159      4.787      0.000       0.450       1.074\n",
    "Retail_Employers         -3123.0050    220.320    -14.175      0.000   -3554.878   -2691.132\n",
    "Retail_Employees           540.6283     26.148     20.675      0.000     489.372     591.884\n",
    "Retail_Payroll              -2.2116      0.950     -2.329      0.020      -4.073      -0.350\n",
    "Retail_Revenue               1.0434      0.027     38.557      0.000       0.990       1.096\n",
    "Transportation_Employers -4166.4483    578.204     -7.206      0.000   -5299.849   -3033.048\n",
    "Transportation_Employees   -73.4557     34.456     -2.132      0.033    -140.996      -5.915\n",
    "Transportation_Payroll      -1.8798      0.714     -2.631      0.009      -3.280      -0.479\n",
    "Transportation_Revenue       2.8265      0.081     34.703      0.000       2.667       2.986\n",
    "Utilities_Employers  -1.698e+05   7270.942    -23.356      0.000   -1.84e+05   -1.56e+05\n",
    "Utilities_Employees   1720.4652    227.618      7.559      0.000    1274.286    2166.644\n",
    "Utilities_Payroll       11.5193      1.814      6.352      0.000       7.964      15.074\n",
    "#Revenue_Per_Employee   -81.3825    108.173     -0.752      0.452    -293.424     130.659\n",
    "#Revenue_Per_Employer     3.3223      8.117      0.409      0.682     -12.588      19.232\n",
    "Profit                   1.3057      0.006    204.873      0.000       1.293       1.318\n",
    "Population              13.4749      0.213     63.246      0.000      13.057      13.892\n",
    "#Percent_Male           7.15e+05   4.28e+06      0.167      0.867   -7.68e+06    9.11e+06\n",
    "#Percent_Female        7.123e+05   4.28e+06      0.166      0.868   -7.68e+06    9.11e+06\n",
    "#Percent_Under_5      -3853.1899   5560.811     -0.693      0.488   -1.48e+04    7047.161\n",
    "#Percent_Under_18     -7.219e+05   4.28e+06     -0.169      0.866   -9.12e+06    7.67e+06\n",
    "#Percent_18_Over      -7.145e+05   4.28e+06     -0.167      0.867   -9.11e+06    7.68e+06\n",
    "Percent_21_Over      -1.561e+04   6333.257     -2.465      0.014    -2.8e+04   -3197.874\n",
    "Percent_25_64         1.406e+04   4318.221      3.257      0.001    5598.231    2.25e+04\n",
    "Percent_65_Over       1.915e+04   4158.169      4.605      0.000     1.1e+04    2.73e+04\n",
    "#Percent_White              4037.7202   9191.253      0.439      0.660    -1.4e+04    2.21e+04\n",
    "Percent_Black              2.879e+04   1.02e+04      2.824      0.005    8810.173    4.88e+04\n",
    "#Percent_Native             1.516e+04   2.76e+04      0.550      0.583   -3.89e+04    6.92e+04\n",
    "Percent_Asian               1.31e+05   1.67e+04      7.829      0.000    9.82e+04    1.64e+05\n",
    "#Percent_Islander           1.515e+05   1.92e+05      0.788      0.431   -2.26e+05    5.29e+05\n",
    "Percent_Other              6.789e+04   2.19e+04      3.106      0.002     2.5e+04    1.11e+05\n",
    "#Percent_Mixed              4.088e+04   2.66e+04      1.539      0.124   -1.12e+04    9.29e+04\n",
    "Percent_Hispanic           2.481e+04   9612.718      2.581      0.010    5966.854    4.37e+04\n",
    "Median_Age                -4.353e+04   1.54e+04     -2.819      0.005   -7.38e+04   -1.33e+04\n",
    "Median_Income               -10.1877      4.664     -2.184      0.029     -19.330      -1.045\n",
    "#Average_Income               -2.1503      3.265     -0.659      0.510      -8.550       4.250\n",
    "Average_Household_Size    -1.818e+06   2.95e+05     -6.158      0.000    -2.4e+06   -1.24e+06\n",
    "Average_Commute_Time       4.337e+04   1.36e+04      3.181      0.001    1.66e+04    7.01e+04\n",
    "#Percent_High_School        6827.4829   1.77e+04      0.386      0.699   -2.78e+04    4.15e+04\n",
    "Percent_Bachelors          4.434e+04   1.02e+04      4.329      0.000    2.43e+04    6.44e+04\n",
    "Percent_In_Poverty         3.327e+04   1.45e+04      2.301      0.021    4930.045    6.16e+04\n",
    "#Percent_16_Over_Working    4.469e+04   3.44e+04      1.301      0.193   -2.26e+04    1.12e+05\n",
    "#Percent_Employed           5407.9077   3.43e+04      0.158      0.875   -6.18e+04    7.26e+04\n",
    "#Percent_Disabled           1.535e+04   2.22e+04      0.691      0.489   -2.82e+04    5.89e+04\n",
    "#Percent_Health_Coverage    2195.5102   1.65e+04      0.133      0.894   -3.01e+04    3.45e+04\n",
    "#Percent_16_Over_Commuters  -1.33e+04   1.59e+04     -0.835      0.404   -4.45e+04    1.79e+04\n",
    "#Percent_Drive_Alone         -1.261e+05   2.34e+05     -0.540      0.589   -5.84e+05    3.32e+05\n",
    "#Percent_Drive_Carpool       -1.338e+05   2.34e+05     -0.572      0.567   -5.92e+05    3.24e+05\n",
    "#Percent_Public_Transport    -1.227e+05   2.34e+05     -0.525      0.600   -5.81e+05    3.35e+05\n",
    "#Percent_Walk                -1.111e+05   2.34e+05     -0.475      0.635   -5.69e+05    3.47e+05\n",
    "#Percent_Other_Transport     -1.071e+05   2.34e+05     -0.458      0.647   -5.66e+05    3.51e+05\n",
    "#Percent_Home_Office         -1.052e+05   2.34e+05     -0.450      0.653   -5.63e+05    3.53e+05\n",
    "#Percent_0_Car                1.197e+05   2.34e+05      0.512      0.609   -3.38e+05    5.78e+05\n",
    "#Percent_1_Car                1.246e+05   2.34e+05      0.533      0.594   -3.34e+05    5.83e+05\n",
    "#Percent_2_Car                1.224e+05   2.34e+05      0.524      0.600   -3.36e+05    5.81e+05\n",
    "Percent_Veterans            -1.824e+04   7110.458     -2.566      0.010   -3.22e+04   -4305.153\n",
    "Percent_Foreign              2.259e+04   5628.263      4.013      0.000    1.16e+04    3.36e+04\n",
    "Percent_Speak_Spanish       -1.419e+04   2955.175     -4.803      0.000      -2e+04   -8401.735\n",
    "#Percent_Speak_IndoEuropean  -6398.2405   6134.331     -1.043      0.297   -1.84e+04    5626.330\n",
    "#Percent_Speak_Asian          1.055e+04   7832.963      1.347      0.178   -4805.594    2.59e+04\n",
    "Housing_Units_Total            67.0985     15.426      4.350      0.000      36.861      97.336\n",
    "Housing_Units_Owner           -39.3539     17.637     -2.231      0.026     -73.925      -4.783\n",
    "Housing_Units_Renter          124.6856     17.401      7.165      0.000      90.576     158.795\n",
    "Housing_Units_Single_Family    59.6924      3.441     17.345      0.000      52.946      66.438\n",
    "Ownership_Rate              -3964.3352   1544.364     -2.567      0.010   -6991.611    -937.059\n",
    "#Vacancy_Rate                -2820.1804   2499.934     -1.128      0.259   -7720.573    2080.212\n",
    "Percent_Broadband            -1.117e+04   5151.176     -2.167      0.030   -2.13e+04   -1067.723\n",
    "Housing_Units_Median_Value       1.0421      0.512      2.034      0.042       0.038       2.046\n",
    "Average_House_Value              0.8349      0.323      2.589      0.010       0.203       1.467\n",
    "#Median_Owner_Monthly_Cost     -215.9694    155.025     -1.393      0.164    -519.850      87.911\n",
    "#Avg_Owner_Monthly_Cost          -0.0778      0.061     -1.267      0.205      -0.198       0.043\n",
    "Median_Rent                    454.6137    229.107      1.984      0.047       5.516     903.712\n",
    "#Average_Rent                    19.6354    266.788      0.074      0.941    -503.326     542.596\n",
    "#Median_Year_Built               42.9178    153.785      0.279      0.780    -258.533     344.369\n",
    "#1_Unit_Buildings               793.2779    822.302      0.965      0.335    -818.606    2405.162\n",
    "1_Unit_Buildings_Units          -0.0138      0.003     -4.094      0.000      -0.020      -0.007\n",
    "#1_Unit_Buildings_Value           0.0022      0.003      0.671      0.502      -0.004       0.009\n",
    "2_Unit_Buildings              8.041e+04   1.24e+04      6.469      0.000     5.6e+04    1.05e+05\n",
    "2_Unit_Buildings_Units          -0.3565      0.074     -4.793      0.000      -0.502      -0.211\n",
    "2_Unit_Buildings_Value           0.3651      0.042      8.635      0.000       0.282       0.448\n",
    "3_4_Unit_Buildings               -1e+05   1.35e+04     -7.413      0.000   -1.26e+05   -7.36e+04\n",
    "3_4_Unit_Buildings_Units         0.8616      0.085     10.102      0.000       0.694       1.029\n",
    "3_4_Unit_Buildings_Value         0.2234      0.042      5.375      0.000       0.142       0.305\n",
    "5_Over_Unit_Buildings         2.485e+04   1051.539     23.629      0.000    2.28e+04    2.69e+04\n",
    "5_Over_Unit_Buildings_Value      0.0461      0.001     32.022      0.000       0.043       0.049\n",
    "5_Over_Unit_Buildings_Units     -0.0749      0.007    -10.382      0.000      -0.089      -0.061\n",
    "Arts_Employee_Per_Employer            2.27e+04   9259.176      2.452      0.014    4553.800    4.09e+04\n",
    "Arts_Revenue_Per_Employer             248.5029     63.627      3.906      0.000     123.781     373.224\n",
    "Arts_Avg_Payroll_Per_Employee          27.5859      3.852      7.162      0.000      20.036      35.136\n",
    "#Arts_Population_Per_Employer           69.1234     55.597      1.243      0.214     -39.859     178.106\n",
    "Healthcare_Employee_Per_Employer    -4.105e+04   9633.560     -4.261      0.000   -5.99e+04   -2.22e+04\n",
    "Healthcare_Revenue_Per_Employer       594.1512     84.734      7.012      0.000     428.055     760.247\n",
    "#Healthcare_Avg_Payroll_Per_Employee     5.2798      5.192      1.017      0.309      -4.898      15.458\n",
    "Healthcare_Population_Per_Employer   -405.3140    239.338     -1.693      0.090    -874.467      63.839\n",
    "#Other_Employee_Per_Employer          3.805e+04   3.18e+04      1.198      0.231   -2.42e+04       1e+05\n",
    "Other_Revenue_Per_Employer            645.9401    150.142      4.302      0.000     351.630     940.250\n",
    "Other_Avg_Payroll_Per_Employee         12.2062      7.297      1.673      0.094      -2.098      26.511\n",
    "Other_Population_Per_Employer        -461.5230    225.433     -2.047      0.041    -903.419     -19.627\n",
    "Retail_Employee_Per_Employer     -3.49e+04   1.53e+04     -2.288      0.022   -6.48e+04   -4995.707\n",
    "Retail_Revenue_Per_Employer       105.6660     36.384      2.904      0.004      34.347     176.985\n",
    "#Retail_Avg_Payroll_Per_Employee    -2.8954      8.523     -0.340      0.734     -19.602      13.811\n",
    "Retail_Population_Per_Employer   -564.1348    264.428     -2.133      0.033   -1082.469     -45.800\n",
    "Industry_Count                   4.675e+05   3.12e+04     15.001      0.000    4.06e+05    5.29e+05"
   ]
  },
  {
   "cell_type": "code",
   "execution_count": null,
   "id": "3c31ffa6",
   "metadata": {},
   "outputs": [],
   "source": [
    "# 1st pass\n",
    "#Information_Payroll      -0.1948      0.119     -1.642      0.101      -0.427       0.038\n",
    "#Revenue_Per_Employee   -81.3825    108.173     -0.752      0.452    -293.424     130.659\n",
    "#Revenue_Per_Employer     3.3223      8.117      0.409      0.682     -12.588      19.232\n",
    "#Percent_Male           7.15e+05   4.28e+06      0.167      0.867   -7.68e+06    9.11e+06\n",
    "#Percent_Female        7.123e+05   4.28e+06      0.166      0.868   -7.68e+06    9.11e+06\n",
    "#Percent_Under_5      -3853.1899   5560.811     -0.693      0.488   -1.48e+04    7047.161\n",
    "#Percent_Under_18     -7.219e+05   4.28e+06     -0.169      0.866   -9.12e+06    7.67e+06\n",
    "#Percent_18_Over      -7.145e+05   4.28e+06     -0.167      0.867   -9.11e+06    7.68e+06\n",
    "#Percent_White              4037.7202   9191.253      0.439      0.660    -1.4e+04    2.21e+04\n",
    "#Percent_Native             1.516e+04   2.76e+04      0.550      0.583   -3.89e+04    6.92e+04\n",
    "#Percent_Islander           1.515e+05   1.92e+05      0.788      0.431   -2.26e+05    5.29e+05\n",
    "#Percent_Mixed              4.088e+04   2.66e+04      1.539      0.124   -1.12e+04    9.29e+04\n",
    "#Average_Income               -2.1503      3.265     -0.659      0.510      -8.550       4.250\n",
    "#Percent_High_School        6827.4829   1.77e+04      0.386      0.699   -2.78e+04    4.15e+04\n",
    "#Percent_16_Over_Working    4.469e+04   3.44e+04      1.301      0.193   -2.26e+04    1.12e+05\n",
    "#Percent_Employed           5407.9077   3.43e+04      0.158      0.875   -6.18e+04    7.26e+04\n",
    "#Percent_Disabled           1.535e+04   2.22e+04      0.691      0.489   -2.82e+04    5.89e+04\n",
    "#Percent_Health_Coverage    2195.5102   1.65e+04      0.133      0.894   -3.01e+04    3.45e+04\n",
    "#Percent_16_Over_Commuters  -1.33e+04   1.59e+04     -0.835      0.404   -4.45e+04    1.79e+04\n",
    "#Percent_Drive_Alone         -1.261e+05   2.34e+05     -0.540      0.589   -5.84e+05    3.32e+05\n",
    "#Percent_Drive_Carpool       -1.338e+05   2.34e+05     -0.572      0.567   -5.92e+05    3.24e+05\n",
    "#Percent_Public_Transport    -1.227e+05   2.34e+05     -0.525      0.600   -5.81e+05    3.35e+05\n",
    "#Percent_Walk                -1.111e+05   2.34e+05     -0.475      0.635   -5.69e+05    3.47e+05\n",
    "#Percent_Other_Transport     -1.071e+05   2.34e+05     -0.458      0.647   -5.66e+05    3.51e+05\n",
    "#Percent_Home_Office         -1.052e+05   2.34e+05     -0.450      0.653   -5.63e+05    3.53e+05\n",
    "#Percent_0_Car                1.197e+05   2.34e+05      0.512      0.609   -3.38e+05    5.78e+05\n",
    "#Percent_1_Car                1.246e+05   2.34e+05      0.533      0.594   -3.34e+05    5.83e+05\n",
    "#Percent_2_Car                1.224e+05   2.34e+05      0.524      0.600   -3.36e+05    5.81e+05\n",
    "#Percent_Speak_IndoEuropean  -6398.2405   6134.331     -1.043      0.297   -1.84e+04    5626.330\n",
    "#Percent_Speak_Asian          1.055e+04   7832.963      1.347      0.178   -4805.594    2.59e+04\n",
    "#Vacancy_Rate                -2820.1804   2499.934     -1.128      0.259   -7720.573    2080.212\n",
    "#Median_Owner_Monthly_Cost     -215.9694    155.025     -1.393      0.164    -519.850      87.911\n",
    "#Avg_Owner_Monthly_Cost          -0.0778      0.061     -1.267      0.205      -0.198       0.043\n",
    "#Average_Rent                    19.6354    266.788      0.074      0.941    -503.326     542.596\n",
    "#Median_Year_Built               42.9178    153.785      0.279      0.780    -258.533     344.369\n",
    "#1_Unit_Buildings               793.2779    822.302      0.965      0.335    -818.606    2405.162\n",
    "#1_Unit_Buildings_Value           0.0022      0.003      0.671      0.502      -0.004       0.009\n",
    "#Arts_Population_Per_Employer           69.1234     55.597      1.243      0.214     -39.859     178.106\n",
    "#Healthcare_Avg_Payroll_Per_Employee     5.2798      5.192      1.017      0.309      -4.898      15.458\n",
    "#Other_Employee_Per_Employer          3.805e+04   3.18e+04      1.198      0.231   -2.42e+04       1e+05\n",
    "#Retail_Avg_Payroll_Per_Employee    -2.8954      8.523     -0.340      0.734     -19.602      13.811"
   ]
  },
  {
   "cell_type": "code",
   "execution_count": null,
   "id": "0eb76876",
   "metadata": {},
   "outputs": [],
   "source": [
    "# 2nd pass\n",
    "#Food_Services_Employees               -1.2515      3.276     -0.382      0.702      -7.673       5.170\n",
    "#Finance_Employees                     -0.2508      1.409     -0.178      0.859      -3.013       2.512\n",
    "#Healthcare_Employers                  42.9318     23.384      1.836      0.066      -2.906      88.770\n",
    "#Real_Estate_Employees                -11.2297     10.570     -1.062      0.288     -31.949       9.490\n",
    "#Retail_Employers                      65.9877     34.722      1.900      0.057      -2.075     134.051\n",
    "#Utilities_Employers                -1580.8615    857.569     -1.843      0.065   -3261.877     100.154\n",
    "#Utilities_Employees                  -22.6614     26.794     -0.846      0.398     -75.183      29.861\n",
    "#Percent_21_Over                     -567.0618    334.691     -1.694      0.090   -1223.127      89.004\n",
    "#Percent_25_64                        669.5059    374.323      1.789      0.074     -64.245    1403.257\n",
    "#Percent_65_Over                      819.9821    470.074      1.744      0.081    -101.461    1741.425\n",
    "#Percent_Black                        -38.5937     61.680     -0.626      0.532    -159.499      82.312\n",
    "#Percent_Asian                        433.2400    236.419      1.833      0.067     -30.191     896.671\n",
    "#Percent_Other                       -411.6873    224.682     -1.832      0.067    -852.111      28.736\n",
    "#Percent_Hispanic                     -32.8831    166.215     -0.198      0.843    -358.700     292.934\n",
    "#Median_Age                          -419.7699    338.961     -1.238      0.216   -1084.206     244.666\n",
    "#Median_Income                          0.0710      0.053      1.332      0.183      -0.033       0.175\n",
    "#Average_Household_Size               489.3715   2535.012      0.193      0.847   -4479.787    5458.530\n",
    "#Average_Commute_Time                -144.9398    151.395     -0.957      0.338    -441.707     151.827\n",
    "#Percent_Bachelors                   -176.8004     91.054     -1.942      0.052    -355.285       1.684\n",
    "#Percent_In_Poverty                   208.1384    147.358      1.412      0.158     -80.715     496.992\n",
    "#Percent_Veterans                      73.8905    294.395      0.251      0.802    -503.186     650.967\n",
    "#Percent_Foreign                      186.6978    224.809      0.830      0.406    -253.975     627.371\n",
    "#Percent_Speak_Spanish                -20.3024    249.736     -0.081      0.935    -509.837     469.232\n",
    "#Housing_Units_Renter                  -1.0250      0.958     -1.070      0.285      -2.902       0.852\n",
    "#Ownership_Rate                       205.2880     92.053      2.230      0.026      24.845     385.731\n",
    "#Percent_Broadband                   -218.8518     98.003     -2.233      0.026    -410.959     -26.744\n",
    "#Median_Rent                           -0.0114      2.660     -0.004      0.997      -5.226       5.203\n",
    "#5_Over_Unit_Buildings_Value        -1.724e-05   3.15e-05     -0.548      0.584   -7.89e-05    4.44e-05\n",
    "#5_Over_Unit_Buildings_Units            0.0002      0.000      1.441      0.150   -6.19e-05       0.000\n",
    "#Arts_Employee_Per_Employer            40.5625    111.401      0.364      0.716    -177.807     258.932\n",
    "#Healthcare_Employee_Per_Employer     107.0527    122.508      0.874      0.382    -133.088     347.194\n",
    "#Healthcare_Revenue_Per_Employer       -0.4930      1.007     -0.490      0.624      -2.467       1.481\n",
    "#Healthcare_Population_Per_Employer    -1.2218      2.681     -0.456      0.649      -6.478       4.035\n",
    "#Other_Revenue_Per_Employer            -1.3766      1.544     -0.892      0.373      -4.402       1.649\n",
    "#Other_Avg_Payroll_Per_Employee        -0.0859      0.084     -1.017      0.309      -0.251       0.080\n",
    "#Other_Population_Per_Employer         -0.2876      2.675     -0.108      0.914      -5.531       4.956\n",
    "#Retail_Employee_Per_Employer         -99.2328    186.827     -0.531      0.595    -465.453     266.987\n",
    "#Retail_Revenue_Per_Employer            0.1894      0.420      0.451      0.652      -0.633       1.012\n",
    "#Retail_Population_Per_Employer         1.0770      3.315      0.325      0.745      -5.421       7.575\n",
    "#Industry_Count                       605.9305    484.380      1.251      0.211    -343.556    1555.417"
   ]
  },
  {
   "cell_type": "code",
   "execution_count": 269,
   "id": "e1b476b3",
   "metadata": {},
   "outputs": [
    {
     "data": {
      "image/png": "[encoded data removed]",
      "text/plain": [
       "<Figure size 432x288 with 1 Axes>"
      ]
     },
     "metadata": {
      "needs_background": "light"
     },
     "output_type": "display_data"
    },
    {
     "name": "stdout",
     "output_type": "stream",
     "text": [
      "Information_Payroll range from 0 to 27042814\n",
      "num total: 9707\n",
      "       Place_Name State_Abbr  Information_Payroll\n",
      "0         Worland         WY                    0\n",
      "5540      Nowthen         MN                    0\n",
      "5536        Orono         MN                    0\n",
      "5535   Orrockship         MN                    0\n",
      "5534        Osseo         MN                    0\n",
      "5533       Otsego         MN                    0\n",
      "5531   Palmership         MN                    0\n",
      "5530  Park Rapids         MN                    0\n",
      "5528       Perham         MN                    0\n",
      "5526  Pine Island         MN                    0\n"
     ]
    }
   ],
   "source": [
    "print_info(\"Information_Payroll\", place_df, True, place_df.Information_Payroll < 0.5)"
   ]
  },
  {
   "cell_type": "code",
   "execution_count": null,
   "id": "6462a972",
   "metadata": {},
   "outputs": [],
   "source": []
  }
 ],
 "metadata": {
  "kernelspec": {
   "display_name": "Python 3 (ipykernel)",
   "language": "python",
   "name": "python3"
  },
  "language_info": {
   "codemirror_mode": {
    "name": "ipython",
    "version": 3
   },
   "file_extension": ".py",
   "mimetype": "text/x-python",
   "name": "python",
   "nbconvert_exporter": "python",
   "pygments_lexer": "ipython3",
   "version": "3.9.12"
  }
 },
 "nbformat": 4,
 "nbformat_minor": 5
}
