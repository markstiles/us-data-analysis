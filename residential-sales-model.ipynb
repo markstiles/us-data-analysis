{
 "cells": [
  {
   "cell_type": "code",
   "execution_count": null,
   "id": "6e372ff4",
   "metadata": {},
   "outputs": [],
   "source": [
    "# BUILD MODEL FOR THE REDFIN SALES DATA"
   ]
  },
  {
   "cell_type": "code",
   "execution_count": null,
   "id": "70d0f184",
   "metadata": {},
   "outputs": [],
   "source": [
    "import pandas as pd\n",
    "import numpy as np\n",
    "import seaborn as sns\n",
    "import string\n",
    "import re\n",
    "import datetime as dt\n",
    "import matplotlib.pyplot as plt\n",
    "import matplotlib.dates as dates\n",
    "import time\n",
    "from selenium import webdriver\n",
    "from selenium.webdriver.support.ui import WebDriverWait\n",
    "from selenium.webdriver.support import expected_conditions as EC\n",
    "from selenium.webdriver.common.by import By\n",
    "from selenium.common.exceptions import TimeoutException\n",
    "from selenium.webdriver.firefox.options import Options as FirefoxOptions\n",
    "from bs4 import BeautifulSoup\n",
    "from unicodedata import normalize\n",
    "from sklearn.linear_model import LinearRegression\n",
    "import pathlib as pathlib\n",
    "import shapefile as shp\n",
    "import seaborn as sns"
   ]
  },
  {
   "cell_type": "code",
   "execution_count": null,
   "id": "0233b870",
   "metadata": {},
   "outputs": [],
   "source": [
    "# RESIDENTIAL SALES DATA ######################"
   ]
  },
  {
   "cell_type": "code",
   "execution_count": null,
   "id": "625f8bc4",
   "metadata": {},
   "outputs": [],
   "source": [
    "waltham_data = pd.read_csv(\"Waltham-sold-past-5-yrs_redfin_2023-06-30-14-05-39.csv\")"
   ]
  },
  {
   "cell_type": "code",
   "execution_count": null,
   "id": "0c14767c",
   "metadata": {},
   "outputs": [],
   "source": [
    "# data columns\n",
    "b = '''\n",
    "SALE TYPE\n",
    "SOLD DATE\n",
    "PROPERTY TYPE\n",
    "ADDRESS\n",
    "CITY\n",
    "STATE OR PROVINCE\n",
    "ZIP OR POSTAL CODE\n",
    "PRICE\n",
    "BEDS\n",
    "BATHS\n",
    "LOCATION\n",
    "SQUARE FEET\n",
    "LOT SIZE\n",
    "YEAR BUILT\n",
    "DAYS ON MARKET\n",
    "$/SQUARE FEET\n",
    "HOA/MONTH\n",
    "STATUS\n",
    "NEXT OPEN HOUSE START TIME\n",
    "NEXT OPEN HOUSE END TIME\n",
    "URL (SEE https://www.redfin.com/buy-a-home/comparative-market-analysis FOR INFO ON PRICING)\n",
    "SOURCE\n",
    "MLS#\n",
    "FAVORITE\n",
    "INTERESTED\n",
    "LATITUDE\n",
    "LONGITUDE\n",
    "'''"
   ]
  },
  {
   "cell_type": "code",
   "execution_count": null,
   "id": "c2a6bac8",
   "metadata": {},
   "outputs": [],
   "source": [
    "# Heatmap\n",
    "sns.heatmap(waltham_data.corr());\n",
    "plt.show()"
   ]
  },
  {
   "cell_type": "code",
   "execution_count": null,
   "id": "47dcf784",
   "metadata": {},
   "outputs": [],
   "source": [
    "# Scatter\n",
    "#lister = waltham_data[\"SOLD DATE\"].unique()\n",
    "#for x in lister:\n",
    "#    print(f'{type(x)}-{x}')\n",
    "plot_data = waltham_data[~pd.isna(waltham_data[\"SOLD DATE\"])]\n",
    "x = [dt.datetime.strptime(d,'%B-%d-%Y').date() for d in plot_data[\"SOLD DATE\"]]\n",
    "#type(x)\n",
    "plt.scatter(x, plot_data[\"PRICE\"])\n",
    "plt.scatter(x, plot_data[\"DAYS ON MARKET\"])\n",
    "plt.show()"
   ]
  },
  {
   "cell_type": "code",
   "execution_count": null,
   "id": "8b810313",
   "metadata": {},
   "outputs": [],
   "source": [
    "model_data = honda_data.groupby([\"Year\"]).aggregate({\n",
    "    'Price': 'mean',\n",
    "})\n",
    "model_data.sort_values('Price').plot(kind='bar')\n",
    "plt.title(f\"Figure {figure_num}: Price by Model Category\")\n",
    "figure_num += 1\n",
    "plt.xlabel(\"Model Category\")\n",
    "plt.ylabel(\"USD\")\n",
    "plt.show()"
   ]
  },
  {
   "cell_type": "code",
   "execution_count": null,
   "id": "d3c5bf88",
   "metadata": {},
   "outputs": [],
   "source": [
    "model_data = honda_data[honda_data.Model_Category == cat].groupby([\"Year\"]).aggregate({\n",
    "    'Price': lambda value: value.mean(),\n",
    "})\n",
    "model_data.plot(kind='line')\n",
    "plt.title(f\"Figure {figure_num}.{figure_sub_num}: {cat} Price by Year\")\n",
    "figure_sub_num += 1\n",
    "plt.ylabel(\"USD\")"
   ]
  },
  {
   "cell_type": "code",
   "execution_count": null,
   "id": "14b7596e",
   "metadata": {},
   "outputs": [],
   "source": [
    "state_data = honda_data.loc[~pd.isna(honda_data.State),\"State\"]\n",
    "states = state_data.sort_values().unique()\n",
    "plt.hist(honda_data.loc[~pd.isna(honda_data.State),\"State\"], edgecolor='black', rwidth=0.75, bins=range(50))\n",
    "plt.xticks(ticks=range(50), labels=states, rotation=45, ha=\"right\")\n",
    "plt.title(f\"Figure {figure_num}: Distribution of State\")\n",
    "figure_num += 1\n",
    "plt.xlabel(\"\")\n",
    "plt.ylabel(\"Count\")\n",
    "plt.show()"
   ]
  }
 ],
 "metadata": {
  "kernelspec": {
   "display_name": "Python 3 (ipykernel)",
   "language": "python",
   "name": "python3"
  },
  "language_info": {
   "codemirror_mode": {
    "name": "ipython",
    "version": 3
   },
   "file_extension": ".py",
   "mimetype": "text/x-python",
   "name": "python",
   "nbconvert_exporter": "python",
   "pygments_lexer": "ipython3",
   "version": "3.9.12"
  }
 },
 "nbformat": 4,
 "nbformat_minor": 5
}
