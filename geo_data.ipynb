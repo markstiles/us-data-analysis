{
 "cells": [
  {
   "cell_type": "code",
   "execution_count": 4,
   "id": "4a84dff7",
   "metadata": {},
   "outputs": [],
   "source": [
    "# TRY TO GET ZIP CODES FROM THE CENSUS SITE AND CAPTURE ALL THE DATA YOU CAN TO BUILD A GEOCODE DATA SET"
   ]
  },
  {
   "cell_type": "code",
   "execution_count": null,
   "id": "cde73528",
   "metadata": {},
   "outputs": [],
   "source": [
    "import pandas as pd\n",
    "from io import StringIO\n",
    "import urllib.request, json "
   ]
  },
  {
   "cell_type": "code",
   "execution_count": 5,
   "id": "4c031366",
   "metadata": {},
   "outputs": [],
   "source": [
    "state_codes = [\"01\", \"02\",\"04\",\"05\",\"06\",\"08\",\"09\",\"10\",\"11\",\"12\",\"13\",\"15\",\"16\",\"17\",\"18\",\"19\",\"20\",\"21\",\"22\",\"23\",\"24\",\"25\",\"26\",\"27\",\"28\",\"29\",\"30\",\"31\",\"32\",\"33\",\"34\",\"35\",\"36\",\"37\",\"38\",\"39\",\"40\",\"41\",\"42\",\"44\",\"45\",\"46\",\"47\",\"48\",\"49\",\"50\",\"51\",\"53\",\"54\",\"55\",\"56\"]"
   ]
  },
  {
   "cell_type": "code",
   "execution_count": 21,
   "id": "841f5b3c",
   "metadata": {},
   "outputs": [
    {
     "name": "stdout",
     "output_type": "stream",
     "text": [
      "0203000\n",
      "0205000\n",
      "0205200\n",
      "0206520\n",
      "0207070\n",
      "0209710\n",
      "0212920\n",
      "0216750\n",
      "0217410\n",
      "0221370\n",
      "0223460\n",
      "0224230\n",
      "0224980\n",
      "0225550\n",
      "0228200\n",
      "0229130\n",
      "0233140\n",
      "0236400\n",
      "0237250\n",
      "0238420\n",
      "0238970\n",
      "0240645\n",
      "0240950\n",
      "0241830\n",
      "0242832\n",
      "0247735\n",
      "0254050\n",
      "0254920\n",
      "0258660\n",
      "0260310\n",
      "0264380\n",
      "0268560\n",
      "0270540\n",
      "0271640\n",
      "0272985\n",
      "0273070\n",
      "0275077\n",
      "0280770\n",
      "0282200\n",
      "0283080\n",
      "0286380\n",
      "0298013\n",
      "0298016\n",
      "0298050\n",
      "0298060\n",
      "0298068\n",
      "0298070\n",
      "0298090\n",
      "0298100\n",
      "0298105\n",
      "0298122\n",
      "0298130\n",
      "0298150\n",
      "0298158\n",
      "0298164\n",
      "0298170\n",
      "0298180\n",
      "0298185\n",
      "0298188\n",
      "0298195\n",
      "0298198\n",
      "0298230\n",
      "0298240\n",
      "0298261\n",
      "0298282\n",
      "0298290\n"
     ]
    }
   ],
   "source": [
    "get_geometry = \"true\"\n",
    "geo_df = pd.DataFrame()\n",
    "for code in state_codes[1:2]:\n",
    "    response = urllib.request.urlopen(f\"https://cbb.census.gov/arcgis/rest/services/Census_EMS/Census/MapServer/4/query?f=json&resultOffset=0&resultRecordCount=1000&where=STATE='{code}'&orderByFields=STATE,PLACE&outFields=GEOID,NAME,PLACE,STATE,OBJECTID,OBJECTID_1,BASENAME&returnGeometry={get_geometry}&spatialRel=esriSpatialRelIntersects\")\n",
    "    json_string = response.read().decode('utf-8')\n",
    "    json_obj = json.loads(json_string)\n",
    "    #print(type(json_obj))\n",
    "    json_features = json_obj['features']\n",
    "    for f in json_features:\n",
    "        \n",
    "        new_row = {\n",
    "            'GeoId':f[\"attributes\"][\"GEOID\"],\n",
    "            'Place_Name':f[\"attributes\"][\"NAME\"],\n",
    "            'State_Abbr':f[\"attributes\"][\"STATE\"],\n",
    "            'State_Name':row['STATE_NAME'],\n",
    "            'Type':row['TYPE']\n",
    "        }\n",
    "        geo_df = pd.concat([new_row,geo_df.loc[:]]).reset_index(drop=True)\n",
    "        "
   ]
  }
 ],
 "metadata": {
  "kernelspec": {
   "display_name": "Python 3 (ipykernel)",
   "language": "python",
   "name": "python3"
  },
  "language_info": {
   "codemirror_mode": {
    "name": "ipython",
    "version": 3
   },
   "file_extension": ".py",
   "mimetype": "text/x-python",
   "name": "python",
   "nbconvert_exporter": "python",
   "pygments_lexer": "ipython3",
   "version": "3.9.12"
  }
 },
 "nbformat": 4,
 "nbformat_minor": 5
}
