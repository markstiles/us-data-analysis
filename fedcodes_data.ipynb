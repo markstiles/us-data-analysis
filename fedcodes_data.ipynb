{
 "cells": [
  {
   "cell_type": "code",
   "execution_count": 11,
   "id": "457b3659",
   "metadata": {},
   "outputs": [],
   "source": [
    "import pandas as pd\n",
    "from io import StringIO\n",
    "import pathlib"
   ]
  },
  {
   "cell_type": "code",
   "execution_count": null,
   "id": "0d0bce5d",
   "metadata": {},
   "outputs": [],
   "source": [
    "# ALL CODES WEBSITE\n",
    "# https://www.usgs.gov/us-board-on-geographic-names/download-gnis-data\n",
    "\n",
    "# FILE STORE\n",
    "# url: https://prd-tnm.s3.amazonaws.com/index.html?prefix=StagedProducts/GeographicNames/DomesticNames/\n",
    "# file: DomesticNames_AllStates_Text.zip\n",
    "\n",
    "# url: https://prd-tnm.s3.amazonaws.com/index.html?prefix=StagedProducts/GeographicNames/FederalCodes/\n",
    "# file: FedCodes_AllStates_Text.zip"
   ]
  },
  {
   "cell_type": "code",
   "execution_count": 17,
   "id": "61cf531c",
   "metadata": {},
   "outputs": [],
   "source": [
    "def remove_decimal(s):\n",
    "    return s.replace(\".0\", \"\")"
   ]
  },
  {
   "cell_type": "code",
   "execution_count": 28,
   "id": "aa096cad",
   "metadata": {},
   "outputs": [],
   "source": [
    "def clean_feature_name(s):\n",
    "    s = s.replace(\" (historical)\", \"\")\n",
    "    s = s.replace(\" (balance)\", \"\").replace(\" (Balance)\", \"\")\n",
    "    s = s.replace(\"Unified Government of \", \"\")\n",
    "    s = s.replace(\" consolidated government\", \"\").replace(\" Consolidated Government\", \"\")\n",
    "    s = s.replace(\" Census Designated Place\", \"\")\n",
    "    return s"
   ]
  },
  {
   "cell_type": "code",
   "execution_count": 29,
   "id": "c6db9536",
   "metadata": {
    "scrolled": true
   },
   "outputs": [
    {
     "name": "stdout",
     "output_type": "stream",
     "text": [
      "1\n",
      "2\n",
      "3\n",
      "4\n",
      "5\n",
      "6\n",
      "7\n",
      "8\n",
      "9\n",
      "10\n",
      "11\n",
      "12\n",
      "13\n",
      "14\n",
      "15\n",
      "16\n",
      "17\n",
      "18\n",
      "19\n",
      "20\n",
      "21\n",
      "22\n",
      "23\n",
      "24\n",
      "25\n",
      "26\n",
      "27\n",
      "28\n",
      "29\n",
      "30\n",
      "31\n",
      "32\n",
      "33\n",
      "34\n",
      "35\n",
      "36\n",
      "37\n",
      "38\n",
      "39\n",
      "40\n",
      "41\n",
      "42\n",
      "43\n",
      "44\n",
      "45\n",
      "46\n",
      "47\n",
      "48\n",
      "49\n",
      "50\n",
      "51\n"
     ]
    }
   ],
   "source": [
    "states = [\n",
    "    'AL', 'AK', 'AZ', 'AR', 'CA', 'CO', 'CT', 'DE', 'DC', 'FL', 'GA', \n",
    "    'HI', 'ID', 'IL', 'IN', 'IA', 'KS', 'KY', 'LA', 'ME', 'MD', 'MA',\n",
    "    'MI', 'MN', 'MS', 'MO', 'MT', 'NE', 'NV', 'NH', 'NJ', 'NM', 'NY',\n",
    "    'NC', 'ND', 'OH', 'OK', 'OR', 'PA', 'RI', 'SC', 'SD', 'TN', 'TX',\n",
    "    'UT', 'VT', 'VA', 'WA', 'WV', 'WI', 'WY'\n",
    "]\n",
    "\n",
    "fed_df = pd.DataFrame()\n",
    "pos = 1\n",
    "for val in states:\n",
    "    print(pos)\n",
    "    \n",
    "    # update count\n",
    "    pos += 1\n",
    "    \n",
    "    # check if exists\n",
    "    file_path = f'./fedcodes/FederalCodes_{val}.txt'\n",
    "    if not pathlib.Path(file_path).is_file():\n",
    "        continue\n",
    "    \n",
    "    # get html\n",
    "    f = open(file_path, \"r\", encoding=\"utf8\")\n",
    "    txt = f.read()\n",
    "    f.close()\n",
    "    \n",
    "    txt = txt.replace(\",\", \"*\").replace(\"|\",\",\")\n",
    "    csvStringIO = StringIO(txt)\n",
    "    state_df = pd.read_csv(csvStringIO, sep=\",\", header=0)\n",
    "    \n",
    "    fed_df = pd.concat([state_df,fed_df.loc[:]]).reset_index(drop=True)\n",
    "    \n",
    "fed_df.census_code = fed_df.census_code.astype(str).apply(remove_decimal)\n",
    "fed_df.feature_name = fed_df.feature_name.apply(clean_feature_name)\n",
    "\n",
    "fed_df.to_csv(\"fedcodes_data.csv\")\n",
    "#print(fed_df)"
   ]
  }
 ],
 "metadata": {
  "kernelspec": {
   "display_name": "Python 3 (ipykernel)",
   "language": "python",
   "name": "python3"
  },
  "language_info": {
   "codemirror_mode": {
    "name": "ipython",
    "version": 3
   },
   "file_extension": ".py",
   "mimetype": "text/x-python",
   "name": "python",
   "nbconvert_exporter": "python",
   "pygments_lexer": "ipython3",
   "version": "3.9.12"
  }
 },
 "nbformat": 4,
 "nbformat_minor": 5
}
