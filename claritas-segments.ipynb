{
 "cells": [
  {
   "cell_type": "code",
   "execution_count": null,
   "id": "adef6c0c",
   "metadata": {},
   "outputs": [],
   "source": [
    "a = '''\n",
    "Claritas Segments is a company that tracks public data and defines regional segmentation profiles for any zipcode\n",
    "\n",
    "Test a zipcode: https://claritas360.claritas.com/mybestsegments/#zipLookup\n",
    "\n",
    "API calls for lexington 01731\n",
    "https://claritas360.claritas.com/smsapi/mybestsegments/mbs/getzipsegments?zipcode=01731&segsys=PZP&_dc=1696994717762\n",
    "https://claritas360.claritas.com/smsapi/mybestsegments/mbs/getzipsegdistributions?transform=1&zipcode=01731&_dc=1696994716083\n",
    "\n",
    "API data definition\n",
    "https://claritas360.claritas.com/smsapi/prompting/prompts/getSegmentList/PZP?_dc=1696994716273\n",
    "'''"
   ]
  }
 ],
 "metadata": {
  "kernelspec": {
   "display_name": "Python 3 (ipykernel)",
   "language": "python",
   "name": "python3"
  },
  "language_info": {
   "codemirror_mode": {
    "name": "ipython",
    "version": 3
   },
   "file_extension": ".py",
   "mimetype": "text/x-python",
   "name": "python",
   "nbconvert_exporter": "python",
   "pygments_lexer": "ipython3",
   "version": "3.9.12"
  }
 },
 "nbformat": 4,
 "nbformat_minor": 5
}
